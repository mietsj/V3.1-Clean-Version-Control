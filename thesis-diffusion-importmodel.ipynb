{
 "cells": [
  {
   "cell_type": "markdown",
   "metadata": {},
   "source": [
    "# Research notebook for backdoor attacks on audio generative diffusion models"
   ]
  },
  {
   "cell_type": "markdown",
   "metadata": {},
   "source": [
    "The diffusion model used in this notebook was based on a model from an assignment for week 11 of the 2023 Deep Learning course (NWI-IMC070) of the Radboud University."
   ]
  },
  {
   "cell_type": "markdown",
   "metadata": {},
   "source": [
    "# Here is the initial code:"
   ]
  },
  {
   "cell_type": "code",
   "execution_count": 2,
   "metadata": {},
   "outputs": [],
   "source": [
    "%config InlineBackend.figure_formats = ['png']\n",
    "%matplotlib inline\n",
    "\n",
    "import torchaudio\n",
    "import torchvision\n",
    "import matplotlib.pyplot as plt\n",
    "from d2l import torch as d2l\n",
    "import itertools\n",
    "import numpy as np\n",
    "import matplotlib.pyplot as plt\n",
    "import torch\n",
    "from torch import nn\n",
    "from torch.nn import functional as F\n",
    "import os\n",
    "import sklearn.preprocessing\n",
    "import joblib\n",
    "import sounddevice as sd\n",
    "from IPython.display import Audio\n",
    "import math"
   ]
  },
  {
   "cell_type": "code",
   "execution_count": 3,
   "metadata": {},
   "outputs": [
    {
     "name": "stdout",
     "output_type": "stream",
     "text": [
      "cuda\n",
      "['soundfile']\n"
     ]
    }
   ],
   "source": [
    "if torch.cuda.is_available():\n",
    "  device = torch.device('cuda')\n",
    "else:\n",
    "  device = torch.device('cpu')\n",
    "print(device)\n",
    "print(str(torchaudio.list_audio_backends()))"
   ]
  },
  {
   "cell_type": "code",
   "execution_count": 4,
   "metadata": {},
   "outputs": [],
   "source": [
    "diffusion_steps = 1000\n",
    "beta = torch.linspace(1e-4, 0.02, diffusion_steps)\n",
    "alpha = 1.0 - beta\n",
    "alpha_bar = torch.cumprod(alpha, dim=0)\n",
    "filename = \"thesis-diffusion-clean-model\"\n",
    "samplerate = 16000\n",
    "\n",
    "n_fft=100 #400 was default\n",
    "hop_length = 800  # Increased hop length\n",
    "resize_h = n_fft // 2 + 1\n",
    "resize_w = math.ceil((samplerate - n_fft) / hop_length) + 1\n",
    "\n",
    "datalocation = \"./saves/\"\n",
    "#datalocation = \"/vol/csedu-nobackup/project/mnederlands/Data\"\n",
    "modellocation = \"./saves/\"\n",
    "os.makedirs(modellocation, exist_ok=True)\n",
    "os.makedirs(datalocation, exist_ok=True)"
   ]
  },
  {
   "cell_type": "markdown",
   "metadata": {},
   "source": [
    "### Audio data"
   ]
  },
  {
   "cell_type": "markdown",
   "metadata": {},
   "source": [
    "Load the data"
   ]
  },
  {
   "cell_type": "code",
   "execution_count": 5,
   "metadata": {},
   "outputs": [
    {
     "ename": "FileNotFoundError",
     "evalue": "[Errno 2] No such file or directory: './saves/train_loader.pth'",
     "output_type": "error",
     "traceback": [
      "\u001b[1;31m---------------------------------------------------------------------------\u001b[0m",
      "\u001b[1;31mFileNotFoundError\u001b[0m                         Traceback (most recent call last)",
      "Cell \u001b[1;32mIn[5], line 5\u001b[0m\n\u001b[0;32m      2\u001b[0m le \u001b[38;5;241m=\u001b[39m joblib\u001b[38;5;241m.\u001b[39mload(datalocation \u001b[38;5;241m+\u001b[39m \u001b[38;5;124m'\u001b[39m\u001b[38;5;124mlabel_encoder.pkl\u001b[39m\u001b[38;5;124m'\u001b[39m)\n\u001b[0;32m      4\u001b[0m \u001b[38;5;66;03m# Loading train_loader and validation_loader\u001b[39;00m\n\u001b[1;32m----> 5\u001b[0m train_loader \u001b[38;5;241m=\u001b[39m \u001b[43mtorch\u001b[49m\u001b[38;5;241;43m.\u001b[39;49m\u001b[43mload\u001b[49m\u001b[43m(\u001b[49m\u001b[43mdatalocation\u001b[49m\u001b[43m \u001b[49m\u001b[38;5;241;43m+\u001b[39;49m\u001b[43m \u001b[49m\u001b[38;5;124;43m'\u001b[39;49m\u001b[38;5;124;43mtrain_loader.pth\u001b[39;49m\u001b[38;5;124;43m'\u001b[39;49m\u001b[43m)\u001b[49m\n\u001b[0;32m      6\u001b[0m validation_loader \u001b[38;5;241m=\u001b[39m torch\u001b[38;5;241m.\u001b[39mload(datalocation \u001b[38;5;241m+\u001b[39m \u001b[38;5;124m'\u001b[39m\u001b[38;5;124mvalidation_loader.pth\u001b[39m\u001b[38;5;124m'\u001b[39m)\n\u001b[0;32m      8\u001b[0m \u001b[38;5;66;03m# Number of classes in the dataset (number of spoken commands)\u001b[39;00m\n",
      "File \u001b[1;32mc:\\Users\\neder\\AppData\\Local\\Programs\\Python\\Python311\\Lib\\site-packages\\torch\\serialization.py:998\u001b[0m, in \u001b[0;36mload\u001b[1;34m(f, map_location, pickle_module, weights_only, mmap, **pickle_load_args)\u001b[0m\n\u001b[0;32m    995\u001b[0m \u001b[38;5;28;01mif\u001b[39;00m \u001b[38;5;124m'\u001b[39m\u001b[38;5;124mencoding\u001b[39m\u001b[38;5;124m'\u001b[39m \u001b[38;5;129;01mnot\u001b[39;00m \u001b[38;5;129;01min\u001b[39;00m pickle_load_args\u001b[38;5;241m.\u001b[39mkeys():\n\u001b[0;32m    996\u001b[0m     pickle_load_args[\u001b[38;5;124m'\u001b[39m\u001b[38;5;124mencoding\u001b[39m\u001b[38;5;124m'\u001b[39m] \u001b[38;5;241m=\u001b[39m \u001b[38;5;124m'\u001b[39m\u001b[38;5;124mutf-8\u001b[39m\u001b[38;5;124m'\u001b[39m\n\u001b[1;32m--> 998\u001b[0m \u001b[38;5;28;01mwith\u001b[39;00m \u001b[43m_open_file_like\u001b[49m\u001b[43m(\u001b[49m\u001b[43mf\u001b[49m\u001b[43m,\u001b[49m\u001b[43m \u001b[49m\u001b[38;5;124;43m'\u001b[39;49m\u001b[38;5;124;43mrb\u001b[39;49m\u001b[38;5;124;43m'\u001b[39;49m\u001b[43m)\u001b[49m \u001b[38;5;28;01mas\u001b[39;00m opened_file:\n\u001b[0;32m    999\u001b[0m     \u001b[38;5;28;01mif\u001b[39;00m _is_zipfile(opened_file):\n\u001b[0;32m   1000\u001b[0m         \u001b[38;5;66;03m# The zipfile reader is going to advance the current file position.\u001b[39;00m\n\u001b[0;32m   1001\u001b[0m         \u001b[38;5;66;03m# If we want to actually tail call to torch.jit.load, we need to\u001b[39;00m\n\u001b[0;32m   1002\u001b[0m         \u001b[38;5;66;03m# reset back to the original position.\u001b[39;00m\n\u001b[0;32m   1003\u001b[0m         orig_position \u001b[38;5;241m=\u001b[39m opened_file\u001b[38;5;241m.\u001b[39mtell()\n",
      "File \u001b[1;32mc:\\Users\\neder\\AppData\\Local\\Programs\\Python\\Python311\\Lib\\site-packages\\torch\\serialization.py:445\u001b[0m, in \u001b[0;36m_open_file_like\u001b[1;34m(name_or_buffer, mode)\u001b[0m\n\u001b[0;32m    443\u001b[0m \u001b[38;5;28;01mdef\u001b[39;00m \u001b[38;5;21m_open_file_like\u001b[39m(name_or_buffer, mode):\n\u001b[0;32m    444\u001b[0m     \u001b[38;5;28;01mif\u001b[39;00m _is_path(name_or_buffer):\n\u001b[1;32m--> 445\u001b[0m         \u001b[38;5;28;01mreturn\u001b[39;00m \u001b[43m_open_file\u001b[49m\u001b[43m(\u001b[49m\u001b[43mname_or_buffer\u001b[49m\u001b[43m,\u001b[49m\u001b[43m \u001b[49m\u001b[43mmode\u001b[49m\u001b[43m)\u001b[49m\n\u001b[0;32m    446\u001b[0m     \u001b[38;5;28;01melse\u001b[39;00m:\n\u001b[0;32m    447\u001b[0m         \u001b[38;5;28;01mif\u001b[39;00m \u001b[38;5;124m'\u001b[39m\u001b[38;5;124mw\u001b[39m\u001b[38;5;124m'\u001b[39m \u001b[38;5;129;01min\u001b[39;00m mode:\n",
      "File \u001b[1;32mc:\\Users\\neder\\AppData\\Local\\Programs\\Python\\Python311\\Lib\\site-packages\\torch\\serialization.py:426\u001b[0m, in \u001b[0;36m_open_file.__init__\u001b[1;34m(self, name, mode)\u001b[0m\n\u001b[0;32m    425\u001b[0m \u001b[38;5;28;01mdef\u001b[39;00m \u001b[38;5;21m__init__\u001b[39m(\u001b[38;5;28mself\u001b[39m, name, mode):\n\u001b[1;32m--> 426\u001b[0m     \u001b[38;5;28msuper\u001b[39m()\u001b[38;5;241m.\u001b[39m\u001b[38;5;21m__init__\u001b[39m(\u001b[38;5;28;43mopen\u001b[39;49m\u001b[43m(\u001b[49m\u001b[43mname\u001b[49m\u001b[43m,\u001b[49m\u001b[43m \u001b[49m\u001b[43mmode\u001b[49m\u001b[43m)\u001b[49m)\n",
      "\u001b[1;31mFileNotFoundError\u001b[0m: [Errno 2] No such file or directory: './saves/train_loader.pth'"
     ]
    }
   ],
   "source": [
    "#Initialization of label encoder\n",
    "le = joblib.load(datalocation + 'label_encoder.pkl')\n",
    "\n",
    "# Loading train_loader and validation_loader\n",
    "train_loader = torch.load(datalocation + 'train_loader.pth')\n",
    "validation_loader = torch.load(datalocation + 'validation_loader.pth')\n",
    "\n",
    "# Number of classes in the dataset (number of spoken commands)\n",
    "num_classes = 35"
   ]
  },
  {
   "cell_type": "markdown",
   "metadata": {},
   "source": [
    "parameter setting from paper Denoising Diffusion Probabilistic Models"
   ]
  },
  {
   "cell_type": "code",
   "execution_count": 6,
   "metadata": {},
   "outputs": [],
   "source": [
    "# Function to visualize spectrogram\n",
    "def show_spectrogram(spectrogram, title):\n",
    "    plt.figure(figsize=(8, 4))\n",
    "    plt.imshow(spectrogram.log2()[0], aspect='auto', origin='lower')\n",
    "    plt.colorbar(format='%+2.0f dB')\n",
    "    plt.title(title)\n",
    "    plt.xlabel('Time')\n",
    "    plt.ylabel('Frequency')\n",
    "    plt.tight_layout()\n",
    "    plt.show()"
   ]
  },
  {
   "cell_type": "code",
   "execution_count": 7,
   "metadata": {
    "jupyter": {
     "source_hidden": true
    }
   },
   "outputs": [],
   "source": [
    "def generate_noisy_samples(x_0, beta):\n",
    "    '''\n",
    "    Create noisy samples for the minibatch x_0.\n",
    "    Return the noisy image, the noise, and the time for each sample.\n",
    "    '''\n",
    "    \n",
    "    x_0 = x_0.to(device)  # Ensure the input tensor is on GPU\n",
    "    beta = beta.to(device)  # Ensure beta is on GPU\n",
    "\n",
    "    alpha = 1.0 - beta\n",
    "    alpha_bar = torch.cumprod(alpha, dim=0).to(device)\n",
    "\n",
    "    # sample a random time t for each sample in the minibatch\n",
    "    t = torch.randint(beta.shape[0], size=(x_0.shape[0],), device=x_0.device)\n",
    "\n",
    "    # Generate noise\n",
    "    noise = torch.randn_like(x_0).to(device)\n",
    "\n",
    "    # Add the noise to each sample\n",
    "    x_t = torch.sqrt(alpha_bar[t, None, None, None]) * x_0 + \\\n",
    "          torch.sqrt(1 - alpha_bar[t, None, None, None]) * noise\n",
    "\n",
    "    return x_t, noise, t"
   ]
  },
  {
   "cell_type": "code",
   "execution_count": 8,
   "metadata": {
    "jupyter": {
     "source_hidden": true
    }
   },
   "outputs": [],
   "source": [
    "class SelfAttention(nn.Module):\n",
    "    def __init__(self, h_size):\n",
    "        super(SelfAttention, self).__init__()\n",
    "        self.h_size = h_size\n",
    "        self.mha = nn.MultiheadAttention(h_size, 4, batch_first=True)\n",
    "        self.ln = nn.LayerNorm([h_size])\n",
    "        self.ff_self = nn.Sequential(\n",
    "            nn.LayerNorm([h_size]),\n",
    "            nn.Linear(h_size, h_size),\n",
    "            nn.GELU(),\n",
    "            nn.Linear(h_size, h_size),\n",
    "        )\n",
    "\n",
    "    def forward(self, x):\n",
    "        x_ln = self.ln(x)\n",
    "        attention_value, _ = self.mha(x_ln, x_ln, x_ln)\n",
    "        attention_value = attention_value + x\n",
    "        attention_value = self.ff_self(attention_value) + attention_value\n",
    "        return attention_value\n",
    "\n",
    "class SAWrapper(nn.Module):\n",
    "    def __init__(self, h_size, num_s):\n",
    "        super(SAWrapper, self).__init__()\n",
    "        self.sa = nn.Sequential(*[SelfAttention(h_size) for _ in range(1)])\n",
    "        self.num_s = num_s\n",
    "        self.h_size = h_size\n",
    "    def forward(self, x):\n",
    "        x = x.view(-1, self.h_size, self.num_s[0] * self.num_s[1]).swapaxes(1, 2)\n",
    "        x = self.sa(x)\n",
    "        x = x.swapaxes(2, 1).view(-1, self.h_size, self.num_s[0], self.num_s[1])\n",
    "        return x\n",
    "\n",
    "# U-Net code adapted from: https://github.com/milesial/Pytorch-UNet\n",
    "\n",
    "class DoubleConv(nn.Module):\n",
    "    def __init__(self, in_channels, out_channels, mid_channels=None, residual=False):\n",
    "        super().__init__()\n",
    "        self.residual = residual\n",
    "        if not mid_channels:\n",
    "            mid_channels = out_channels\n",
    "        self.double_conv = nn.Sequential(\n",
    "            nn.Conv2d(in_channels, mid_channels, kernel_size=3, padding=1, bias=False),\n",
    "            nn.GroupNorm(1, mid_channels),\n",
    "            nn.GELU(),\n",
    "            nn.Conv2d(mid_channels, out_channels, kernel_size=3, padding=1, bias=False),\n",
    "            nn.GroupNorm(1, out_channels),\n",
    "        )\n",
    "\n",
    "    def forward(self, x):\n",
    "        if self.residual:\n",
    "            return F.gelu(x + self.double_conv(x))\n",
    "        else:\n",
    "            return self.double_conv(x)\n",
    "\n",
    "class Down(nn.Module):\n",
    "    def __init__(self, in_channels, out_channels):\n",
    "        super().__init__()\n",
    "        self.maxpool_conv = nn.Sequential(\n",
    "            nn.MaxPool2d(2),\n",
    "            DoubleConv(in_channels, in_channels, residual=True),\n",
    "            DoubleConv(in_channels, out_channels),\n",
    "        )\n",
    "\n",
    "    def forward(self, x):\n",
    "        return self.maxpool_conv(x)\n",
    "\n",
    "class Up(nn.Module):\n",
    "    def __init__(self, in_channels, out_channels, bilinear=True):\n",
    "        super().__init__()\n",
    "\n",
    "        # if bilinear, use the normal convolutions to reduce the number of channels\n",
    "        if bilinear:\n",
    "            self.up = nn.Upsample(scale_factor=2, mode=\"bilinear\", align_corners=True)\n",
    "            self.conv = DoubleConv(in_channels, in_channels, residual=True)\n",
    "            self.conv2 = DoubleConv(in_channels, out_channels, in_channels // 2)\n",
    "        else:\n",
    "            self.up = nn.ConvTranspose2d(\n",
    "                in_channels, in_channels // 2, kernel_size=2, stride=2\n",
    "            )\n",
    "            self.conv = DoubleConv(in_channels, out_channels)\n",
    "\n",
    "    def forward(self, x1, x2):\n",
    "        x1 = self.up(x1)\n",
    "        # input is CHW\n",
    "        diffY = x2.size()[2] - x1.size()[2]\n",
    "        diffX = x2.size()[3] - x1.size()[3]\n",
    "\n",
    "        x1 = F.pad(x1, [diffX // 2, diffX - diffX // 2, diffY // 2, diffY - diffY // 2])\n",
    "        x = torch.cat([x2, x1], dim=1)\n",
    "        x = self.conv(x)\n",
    "        x = self.conv2(x)\n",
    "        return x\n",
    "\n",
    "class OutConv(nn.Module):\n",
    "    def __init__(self, in_channels, out_channels):\n",
    "        super(OutConv, self).__init__()\n",
    "        self.conv = nn.Conv2d(in_channels, out_channels, kernel_size=1)\n",
    "\n",
    "    def forward(self, x):\n",
    "        return self.conv(x)"
   ]
  },
  {
   "cell_type": "code",
   "execution_count": 9,
   "metadata": {
    "jupyter": {
     "source_hidden": true
    }
   },
   "outputs": [],
   "source": [
    "class UNetConditional(nn.Module):\n",
    "    def __init__(self, c_in=1, c_out=1, n_classes=35, device=\"cuda\"):\n",
    "        super().__init__()\n",
    "        self.device = device\n",
    "        bilinear = True\n",
    "        self.inc = DoubleConv(c_in, 64)\n",
    "        self.down1 = Down(64, 128)\n",
    "        self.down2 = Down(128, 256)\n",
    "        self.sa1 = SAWrapper(256, [12, 5])\n",
    "        factor = 2 if bilinear else 1\n",
    "        self.down3 = Down(256, 512 // factor)\n",
    "        self.sa2 = SAWrapper(256, [6, 2])\n",
    "        self.up1 = Up(512, 256 // factor, bilinear)\n",
    "        self.sa3 = SAWrapper(128, [12, 5])\n",
    "        self.up2 = Up(256, 128 // factor, bilinear)\n",
    "        self.up3 = Up(128, 64, bilinear)\n",
    "        self.outc = OutConv(64, c_out)\n",
    "        self.label_embedding = nn.Embedding(n_classes, 256)\n",
    "    def pos_encoding(self, t, channels, embed_size):\n",
    "        inv_freq = 1.0 / (\n",
    "            10000\n",
    "            ** (torch.arange(0, channels, 2, device=self.device).float() / channels)\n",
    "        )\n",
    "        pos_enc_a = torch.sin(t[:, None].repeat(1, channels // 2) * inv_freq)\n",
    "        pos_enc_b = torch.cos(t[:, None].repeat(1, channels // 2) * inv_freq)\n",
    "        pos_enc = torch.cat([pos_enc_a, pos_enc_b], dim=-1)\n",
    "        return pos_enc.view(-1, channels, 1, 1).repeat(1, 1, int(embed_size[0]), int(embed_size[1]))\n",
    "    def label_encoding(self, label, channels, embed_size):\n",
    "        return self.label_embedding(label)[:, :channels, None, None].repeat(1, 1, int(embed_size[0]), int(embed_size[1]))\n",
    "    \n",
    "    def forward(self, x, t, label):\n",
    "        \"\"\"\n",
    "        Model is U-Net with added positional encodings and self-attention layers.\n",
    "        \"\"\"\n",
    "        x1 = self.inc(x)\n",
    "        x2 = self.down1(x1) + self.pos_encoding(t, 128, (resize_h/2, resize_w/2)) + self.label_encoding(label, 128, (resize_h/2, resize_w/2))\n",
    "        x3 = self.down2(x2) + self.pos_encoding(t, 256, (resize_h/4, resize_w/4)) + self.label_encoding(label, 256, (resize_h/4, resize_w/4))\n",
    "        x3 = self.sa1(x3)\n",
    "        x4 = self.down3(x3) + self.pos_encoding(t, 256, (resize_h/8, resize_w/8)) + self.label_encoding(label, 256, (resize_h/8, resize_w/8))\n",
    "        x4 = self.sa2(x4)\n",
    "        x = self.up1(x4, x3) + self.pos_encoding(t, 128, (resize_h/4, resize_w/4)) + self.label_encoding(label, 128, (resize_h/4, resize_w/4))\n",
    "        x = self.sa3(x)\n",
    "        x = self.up2(x, x2) + self.pos_encoding(t, 64, (resize_h/2, resize_w/2)) + self.label_encoding(label, 64, (resize_h/2, resize_w/2))\n",
    "        x = self.up3(x, x1) + self.pos_encoding(t, 64, (resize_h, resize_w)) + self.label_encoding(label, 64, (resize_h, resize_w))\n",
    "        output = self.outc(x)\n",
    "        return output"
   ]
  },
  {
   "cell_type": "code",
   "execution_count": 10,
   "metadata": {},
   "outputs": [],
   "source": [
    "def train_conditional(model, beta, num_epochs=10, lr=1e-3):\n",
    "\n",
    "    optimizer = torch.optim.Adam(model.parameters(), lr=lr)\n",
    "    animator = d2l.Animator(xlabel='epoch', xlim=[1, num_epochs], figsize=(10, 5),\n",
    "                            legend=['train loss', 'validation loss'])\n",
    "    for epoch in range(num_epochs):\n",
    "        metric = d2l.Accumulator(2)\n",
    "        model.train()\n",
    "        for x, y in train_loader:\n",
    "            x = x.to(device)\n",
    "            y = y.to(device)\n",
    "            optimizer.zero_grad()\n",
    "            \n",
    "            # generate a noisy minibatch\n",
    "            x_t, noise, sampled_t = generate_noisy_samples(x, beta.to(device))\n",
    "            # use the model to estimate the noise\n",
    "            estimated_noise = model(x_t, sampled_t.to(torch.float), y)\n",
    "\n",
    "            # compute the difference between the noise and the estimated noise\n",
    "            loss = F.mse_loss(estimated_noise, noise)\n",
    "            \n",
    "            # Optimize\n",
    "            loss.backward()\n",
    "            optimizer.step()\n",
    "            \n",
    "            # Track our progress\n",
    "            metric.add(loss.detach() * x.shape[0], x.shape[0])\n",
    "        train_loss = metric[0] / metric[1]\n",
    "            \n",
    "        # Compute test loss\n",
    "        validation_loss = test_conditional(model, validation_loader, beta)\n",
    "\n",
    "        # Plot\n",
    "        animator.add(epoch + 1, (train_loss, validation_loss))\n",
    "    print(f'training loss {train_loss:.3g}, validation loss {validation_loss:.3g}')\n",
    "    os.makedirs(\"../Models\", exist_ok=True)\n",
    "    torch.save(model.state_dict(), f\"./Models/{filename}.pth\")\n",
    "\n",
    "def test_conditional(model, validation_loader, beta):\n",
    "    metric = d2l.Accumulator(2)\n",
    "    model.eval()\n",
    "    for x, y in validation_loader:\n",
    "        x = x.to(device)\n",
    "        y = y.to(device)\n",
    "        with torch.no_grad():\n",
    "            x_t, noise, sampled_t = generate_noisy_samples(x, beta.to(device))\n",
    "            estimated_noise = model(x_t, sampled_t.to(torch.float), y)\n",
    "            loss = F.mse_loss(estimated_noise, noise)\n",
    "            metric.add(loss.detach() * x.shape[0], x.shape[0])\n",
    "    return metric[0] / metric[1]"
   ]
  },
  {
   "cell_type": "code",
   "execution_count": 11,
   "metadata": {},
   "outputs": [],
   "source": [
    "def sample_from_model_conditional(x, model, beta, label):\n",
    "    # keep track of x at different time steps\n",
    "    x_hist = []\n",
    "    with torch.no_grad():\n",
    "        c = (torch.ones(x.shape[0]) * label).long().to(device)\n",
    "        # loop over all time steps in reverse order\n",
    "        for i in reversed(range(0, beta.shape[0])):\n",
    "            # copy the time step for each sample in the minibatch\n",
    "            t = (torch.ones(x.shape[0]) * i).long().to(device)\n",
    "            # generate random noise for early time steps\n",
    "            z = torch.randn_like(x) if i > 0 else torch.zeros_like(x)\n",
    "            # define sigma as suggested in the paper\n",
    "            sigma = torch.sqrt(beta[i])\n",
    "            # compute the next x\n",
    "            x = (1 / torch.sqrt(alpha[i])) * \\\n",
    "                (x - ((1 - alpha[i]) / torch.sqrt(1 - alpha_bar[i])) * model(x, t, c)) + \\\n",
    "                sigma * z\n",
    "            if i % 100 == 0:\n",
    "                x_hist.append(x.detach().cpu().numpy())\n",
    "    return x, x_hist"
   ]
  },
  {
   "cell_type": "code",
   "execution_count": 12,
   "metadata": {},
   "outputs": [
    {
     "name": "stdout",
     "output_type": "stream",
     "text": [
      "['backward' 'bed' 'bird' 'cat' 'dog' 'down' 'eight' 'five' 'follow'\n",
      " 'forward' 'four' 'go' 'happy' 'house' 'learn' 'left' 'marvin' 'nine' 'no'\n",
      " 'off' 'on' 'one' 'right' 'seven' 'sheila' 'six' 'stop' 'three' 'tree'\n",
      " 'two' 'up' 'visual' 'wow' 'yes' 'zero']\n",
      "35\n"
     ]
    }
   ],
   "source": [
    "print(le.classes_)\n",
    "print(len(le.classes_))"
   ]
  },
  {
   "cell_type": "code",
   "execution_count": 13,
   "metadata": {},
   "outputs": [
    {
     "ename": "NameError",
     "evalue": "name 'train_loader' is not defined",
     "output_type": "error",
     "traceback": [
      "\u001b[1;31m---------------------------------------------------------------------------\u001b[0m",
      "\u001b[1;31mNameError\u001b[0m                                 Traceback (most recent call last)",
      "Cell \u001b[1;32mIn[13], line 1\u001b[0m\n\u001b[1;32m----> 1\u001b[0m x_0, y \u001b[38;5;241m=\u001b[39m \u001b[38;5;28mnext\u001b[39m(\u001b[38;5;28miter\u001b[39m(\u001b[43mtrain_loader\u001b[49m))\n\u001b[0;32m      3\u001b[0m \u001b[38;5;66;03m# Function to visualize spectrogram\u001b[39;00m\n\u001b[0;32m      4\u001b[0m \u001b[38;5;28;01mdef\u001b[39;00m \u001b[38;5;21mshow_spectrogram\u001b[39m(spectrogram, title):\n",
      "\u001b[1;31mNameError\u001b[0m: name 'train_loader' is not defined"
     ]
    }
   ],
   "source": [
    "x_0, y = next(iter(train_loader))\n",
    "\n",
    "# Function to visualize spectrogram\n",
    "def show_spectrogram(spectrogram, title):\n",
    "    plt.figure(figsize=(8, 4))\n",
    "    plt.imshow(spectrogram.log2()[0][0], aspect='auto', origin='lower')\n",
    "    plt.colorbar(format='%+2.0f dB')\n",
    "    plt.title(title)\n",
    "    plt.xlabel('Time')\n",
    "    plt.ylabel('Frequency')\n",
    "    plt.tight_layout()\n",
    "    plt.show()\n",
    "\n",
    "# Visualize spectrograms for a few samples from the train set\n",
    "j = 0\n",
    "for i in train_loader:  # Visualize first 3 samples\n",
    "    if j < 3:\n",
    "        show_spectrogram(i[0], f'Spectrogram for {i[1][0]}')\n",
    "        j += 1\n",
    "    else:\n",
    "        break        \n"
   ]
  },
  {
   "cell_type": "code",
   "execution_count": 14,
   "metadata": {},
   "outputs": [
    {
     "ename": "FileNotFoundError",
     "evalue": "[Errno 2] No such file or directory: './saves/thesis-diffusion-clean-model.pth'",
     "output_type": "error",
     "traceback": [
      "\u001b[1;31m---------------------------------------------------------------------------\u001b[0m",
      "\u001b[1;31mFileNotFoundError\u001b[0m                         Traceback (most recent call last)",
      "Cell \u001b[1;32mIn[14], line 2\u001b[0m\n\u001b[0;32m      1\u001b[0m loaded_model \u001b[38;5;241m=\u001b[39m UNetConditional()\n\u001b[1;32m----> 2\u001b[0m loaded_model\u001b[38;5;241m.\u001b[39mload_state_dict(\u001b[43mtorch\u001b[49m\u001b[38;5;241;43m.\u001b[39;49m\u001b[43mload\u001b[49m\u001b[43m(\u001b[49m\u001b[43mmodellocation\u001b[49m\u001b[43m \u001b[49m\u001b[38;5;241;43m+\u001b[39;49m\u001b[43m \u001b[49m\u001b[43mfilename\u001b[49m\u001b[43m \u001b[49m\u001b[38;5;241;43m+\u001b[39;49m\u001b[43m \u001b[49m\u001b[38;5;124;43m\"\u001b[39;49m\u001b[38;5;124;43m.pth\u001b[39;49m\u001b[38;5;124;43m\"\u001b[39;49m\u001b[43m)\u001b[49m)\n\u001b[0;32m      3\u001b[0m loaded_model \u001b[38;5;241m=\u001b[39m loaded_model\u001b[38;5;241m.\u001b[39mto(device)\n",
      "File \u001b[1;32mc:\\Users\\neder\\AppData\\Local\\Programs\\Python\\Python311\\Lib\\site-packages\\torch\\serialization.py:998\u001b[0m, in \u001b[0;36mload\u001b[1;34m(f, map_location, pickle_module, weights_only, mmap, **pickle_load_args)\u001b[0m\n\u001b[0;32m    995\u001b[0m \u001b[38;5;28;01mif\u001b[39;00m \u001b[38;5;124m'\u001b[39m\u001b[38;5;124mencoding\u001b[39m\u001b[38;5;124m'\u001b[39m \u001b[38;5;129;01mnot\u001b[39;00m \u001b[38;5;129;01min\u001b[39;00m pickle_load_args\u001b[38;5;241m.\u001b[39mkeys():\n\u001b[0;32m    996\u001b[0m     pickle_load_args[\u001b[38;5;124m'\u001b[39m\u001b[38;5;124mencoding\u001b[39m\u001b[38;5;124m'\u001b[39m] \u001b[38;5;241m=\u001b[39m \u001b[38;5;124m'\u001b[39m\u001b[38;5;124mutf-8\u001b[39m\u001b[38;5;124m'\u001b[39m\n\u001b[1;32m--> 998\u001b[0m \u001b[38;5;28;01mwith\u001b[39;00m \u001b[43m_open_file_like\u001b[49m\u001b[43m(\u001b[49m\u001b[43mf\u001b[49m\u001b[43m,\u001b[49m\u001b[43m \u001b[49m\u001b[38;5;124;43m'\u001b[39;49m\u001b[38;5;124;43mrb\u001b[39;49m\u001b[38;5;124;43m'\u001b[39;49m\u001b[43m)\u001b[49m \u001b[38;5;28;01mas\u001b[39;00m opened_file:\n\u001b[0;32m    999\u001b[0m     \u001b[38;5;28;01mif\u001b[39;00m _is_zipfile(opened_file):\n\u001b[0;32m   1000\u001b[0m         \u001b[38;5;66;03m# The zipfile reader is going to advance the current file position.\u001b[39;00m\n\u001b[0;32m   1001\u001b[0m         \u001b[38;5;66;03m# If we want to actually tail call to torch.jit.load, we need to\u001b[39;00m\n\u001b[0;32m   1002\u001b[0m         \u001b[38;5;66;03m# reset back to the original position.\u001b[39;00m\n\u001b[0;32m   1003\u001b[0m         orig_position \u001b[38;5;241m=\u001b[39m opened_file\u001b[38;5;241m.\u001b[39mtell()\n",
      "File \u001b[1;32mc:\\Users\\neder\\AppData\\Local\\Programs\\Python\\Python311\\Lib\\site-packages\\torch\\serialization.py:445\u001b[0m, in \u001b[0;36m_open_file_like\u001b[1;34m(name_or_buffer, mode)\u001b[0m\n\u001b[0;32m    443\u001b[0m \u001b[38;5;28;01mdef\u001b[39;00m \u001b[38;5;21m_open_file_like\u001b[39m(name_or_buffer, mode):\n\u001b[0;32m    444\u001b[0m     \u001b[38;5;28;01mif\u001b[39;00m _is_path(name_or_buffer):\n\u001b[1;32m--> 445\u001b[0m         \u001b[38;5;28;01mreturn\u001b[39;00m \u001b[43m_open_file\u001b[49m\u001b[43m(\u001b[49m\u001b[43mname_or_buffer\u001b[49m\u001b[43m,\u001b[49m\u001b[43m \u001b[49m\u001b[43mmode\u001b[49m\u001b[43m)\u001b[49m\n\u001b[0;32m    446\u001b[0m     \u001b[38;5;28;01melse\u001b[39;00m:\n\u001b[0;32m    447\u001b[0m         \u001b[38;5;28;01mif\u001b[39;00m \u001b[38;5;124m'\u001b[39m\u001b[38;5;124mw\u001b[39m\u001b[38;5;124m'\u001b[39m \u001b[38;5;129;01min\u001b[39;00m mode:\n",
      "File \u001b[1;32mc:\\Users\\neder\\AppData\\Local\\Programs\\Python\\Python311\\Lib\\site-packages\\torch\\serialization.py:426\u001b[0m, in \u001b[0;36m_open_file.__init__\u001b[1;34m(self, name, mode)\u001b[0m\n\u001b[0;32m    425\u001b[0m \u001b[38;5;28;01mdef\u001b[39;00m \u001b[38;5;21m__init__\u001b[39m(\u001b[38;5;28mself\u001b[39m, name, mode):\n\u001b[1;32m--> 426\u001b[0m     \u001b[38;5;28msuper\u001b[39m()\u001b[38;5;241m.\u001b[39m\u001b[38;5;21m__init__\u001b[39m(\u001b[38;5;28;43mopen\u001b[39;49m\u001b[43m(\u001b[49m\u001b[43mname\u001b[49m\u001b[43m,\u001b[49m\u001b[43m \u001b[49m\u001b[43mmode\u001b[49m\u001b[43m)\u001b[49m)\n",
      "\u001b[1;31mFileNotFoundError\u001b[0m: [Errno 2] No such file or directory: './saves/thesis-diffusion-clean-model.pth'"
     ]
    }
   ],
   "source": [
    "loaded_model = UNetConditional()\n",
    "loaded_model.load_state_dict(torch.load(modellocation + filename + \".pth\"))\n",
    "loaded_model = loaded_model.to(device)"
   ]
  },
  {
   "cell_type": "code",
   "execution_count": 15,
   "metadata": {},
   "outputs": [],
   "source": [
    "def plot_x_hist(x_hist):\n",
    "    # plot the generated images\n",
    "    plt.figure(figsize=(10, 10))\n",
    "    for i in range(len(x_hist)):\n",
    "        for j in range(10):\n",
    "            plt.subplot(10, len(x_hist), j * len(x_hist) + i + 1)\n",
    "            spectrogram = x_hist[i][j]\n",
    "            plt.imshow(x_hist[i][j])\n",
    "            np.log2((spectrogram + 1e-10), aspect='auto', origin='lower')\n",
    "            plt.colorbar(format='%+2.0f dB')\n",
    "            plt.title(f'Spectrogram {i * 10 + j}')\n",
    "            plt.xlabel('Time')\n",
    "            plt.ylabel('Frequency')\n",
    "            plt.tight_layout()"
   ]
  },
  {
   "cell_type": "code",
   "execution_count": 16,
   "metadata": {},
   "outputs": [],
   "source": [
    "#x = torch.randn_like(x_0[:10]).to(device)\n",
    "#x, x_hist = sample_from_model_conditional(x, loaded_model, beta, label=3)\n",
    "#plot_x_hist(x_hist)"
   ]
  },
  {
   "cell_type": "markdown",
   "metadata": {},
   "source": [
    "# Sample and plot 10 samples for every digit"
   ]
  },
  {
   "cell_type": "code",
   "execution_count": 17,
   "metadata": {},
   "outputs": [
    {
     "ename": "NameError",
     "evalue": "name 'x_0' is not defined",
     "output_type": "error",
     "traceback": [
      "\u001b[1;31m---------------------------------------------------------------------------\u001b[0m",
      "\u001b[1;31mNameError\u001b[0m                                 Traceback (most recent call last)",
      "Cell \u001b[1;32mIn[17], line 4\u001b[0m\n\u001b[0;32m      1\u001b[0m x_per_class \u001b[38;5;241m=\u001b[39m []\n\u001b[0;32m      2\u001b[0m \u001b[38;5;28;01mfor\u001b[39;00m label \u001b[38;5;129;01min\u001b[39;00m \u001b[38;5;28mrange\u001b[39m(\u001b[38;5;241m10\u001b[39m):\n\u001b[0;32m      3\u001b[0m     \u001b[38;5;66;03m# sample 10 digits with this label\u001b[39;00m\n\u001b[1;32m----> 4\u001b[0m     x \u001b[38;5;241m=\u001b[39m torch\u001b[38;5;241m.\u001b[39mrandn_like(\u001b[43mx_0\u001b[49m[:\u001b[38;5;241m10\u001b[39m])\u001b[38;5;241m.\u001b[39mto(device)\n\u001b[0;32m      5\u001b[0m     x, x_hist \u001b[38;5;241m=\u001b[39m sample_from_model_conditional(x, loaded_model, beta, label\u001b[38;5;241m=\u001b[39mlabel)\n\u001b[0;32m      6\u001b[0m     x_per_class\u001b[38;5;241m.\u001b[39mappend(x\u001b[38;5;241m.\u001b[39mdetach()\u001b[38;5;241m.\u001b[39mcpu()\u001b[38;5;241m.\u001b[39mnumpy())\n",
      "\u001b[1;31mNameError\u001b[0m: name 'x_0' is not defined"
     ]
    }
   ],
   "source": [
    "x_per_class = []\n",
    "for label in range(10):\n",
    "    # sample 10 digits with this label\n",
    "    x = torch.randn_like(x_0[:10]).to(device)\n",
    "    x, x_hist = sample_from_model_conditional(x, loaded_model, beta, label=label)\n",
    "    x_per_class.append(x.detach().cpu().numpy())\n",
    "\n",
    "plt.figure(figsize=(10, 10))\n",
    "for i in range(10):\n",
    "    for j in range(10):\n",
    "        plt.subplot(10, 10, j * 10 + i + 1)\n",
    "        plt.imshow(x_per_class[j][i, 0])\n",
    "        plt.axis('off')"
   ]
  },
  {
   "cell_type": "code",
   "execution_count": 18,
   "metadata": {},
   "outputs": [
    {
     "ename": "NameError",
     "evalue": "name 'x_0' is not defined",
     "output_type": "error",
     "traceback": [
      "\u001b[1;31m---------------------------------------------------------------------------\u001b[0m",
      "\u001b[1;31mNameError\u001b[0m                                 Traceback (most recent call last)",
      "Cell \u001b[1;32mIn[18], line 1\u001b[0m\n\u001b[1;32m----> 1\u001b[0m x \u001b[38;5;241m=\u001b[39m torch\u001b[38;5;241m.\u001b[39mrandn_like(\u001b[43mx_0\u001b[49m[:\u001b[38;5;241m10\u001b[39m])\u001b[38;5;241m.\u001b[39mto(device)\n\u001b[0;32m      2\u001b[0m x, x_hist \u001b[38;5;241m=\u001b[39m sample_from_model_conditional(x, loaded_model, beta, label\u001b[38;5;241m=\u001b[39m\u001b[38;5;241m3\u001b[39m)\n",
      "\u001b[1;31mNameError\u001b[0m: name 'x_0' is not defined"
     ]
    }
   ],
   "source": [
    "x = torch.randn_like(x_0[:10]).to(device)\n",
    "x, x_hist = sample_from_model_conditional(x, loaded_model, beta, label=3)"
   ]
  },
  {
   "cell_type": "code",
   "execution_count": 19,
   "metadata": {},
   "outputs": [
    {
     "ename": "NameError",
     "evalue": "name 'x' is not defined",
     "output_type": "error",
     "traceback": [
      "\u001b[1;31m---------------------------------------------------------------------------\u001b[0m",
      "\u001b[1;31mNameError\u001b[0m                                 Traceback (most recent call last)",
      "Cell \u001b[1;32mIn[19], line 11\u001b[0m\n\u001b[0;32m      8\u001b[0m     plt\u001b[38;5;241m.\u001b[39mtight_layout()\n\u001b[0;32m      9\u001b[0m     plt\u001b[38;5;241m.\u001b[39mshow()\n\u001b[1;32m---> 11\u001b[0m \u001b[38;5;28mprint\u001b[39m(\u001b[43mx\u001b[49m[\u001b[38;5;241m0\u001b[39m]\u001b[38;5;241m.\u001b[39mcpu()\u001b[38;5;241m.\u001b[39mshape)\n\u001b[0;32m     12\u001b[0m show_spectrogram(x[\u001b[38;5;241m0\u001b[39m]\u001b[38;5;241m.\u001b[39mcpu(), le\u001b[38;5;241m.\u001b[39minverse_transform([\u001b[38;5;241m3\u001b[39m]))\n",
      "\u001b[1;31mNameError\u001b[0m: name 'x' is not defined"
     ]
    }
   ],
   "source": [
    "def show_spectrogram(spectrogram, title):\n",
    "    plt.figure(figsize=(8, 4))\n",
    "    plt.imshow(spectrogram.log2()[0], aspect='auto', origin='lower')\n",
    "    plt.colorbar(format='%+2.0f dB')\n",
    "    plt.title(title)\n",
    "    plt.xlabel('Time')\n",
    "    plt.ylabel('Frequency')\n",
    "    plt.tight_layout()\n",
    "    plt.show()\n",
    "\n",
    "print(x[0].cpu().shape)\n",
    "show_spectrogram(x[0].cpu(), le.inverse_transform([3]))"
   ]
  },
  {
   "cell_type": "code",
   "execution_count": 20,
   "metadata": {},
   "outputs": [
    {
     "name": "stdout",
     "output_type": "stream",
     "text": [
      "51\n",
      "21\n"
     ]
    }
   ],
   "source": [
    "resize_h = n_fft // 2 + 1\n",
    "resize_w = math.ceil((samplerate - n_fft) / hop_length) + 1\n",
    "\n",
    "print(resize_h)\n",
    "print(resize_w)"
   ]
  },
  {
   "cell_type": "code",
   "execution_count": 21,
   "metadata": {},
   "outputs": [
    {
     "name": "stdout",
     "output_type": "stream",
     "text": [
      "51\n"
     ]
    },
    {
     "ename": "NameError",
     "evalue": "name 'x' is not defined",
     "output_type": "error",
     "traceback": [
      "\u001b[1;31m---------------------------------------------------------------------------\u001b[0m",
      "\u001b[1;31mNameError\u001b[0m                                 Traceback (most recent call last)",
      "Cell \u001b[1;32mIn[21], line 2\u001b[0m\n\u001b[0;32m      1\u001b[0m \u001b[38;5;28mprint\u001b[39m((n_fft \u001b[38;5;241m/\u001b[39m\u001b[38;5;241m/\u001b[39m \u001b[38;5;241m2\u001b[39m \u001b[38;5;241m+\u001b[39m \u001b[38;5;241m1\u001b[39m))\n\u001b[1;32m----> 2\u001b[0m \u001b[38;5;28mprint\u001b[39m(\u001b[38;5;28mint\u001b[39m(\u001b[43mx\u001b[49m[\u001b[38;5;241m0\u001b[39m][\u001b[38;5;241m0\u001b[39m]\u001b[38;5;241m.\u001b[39msize(\u001b[38;5;241m-\u001b[39m\u001b[38;5;241m1\u001b[39m) \u001b[38;5;241m*\u001b[39m hop_length \u001b[38;5;241m/\u001b[39m n_fft))\n\u001b[0;32m      4\u001b[0m \u001b[38;5;28mprint\u001b[39m(x\u001b[38;5;241m.\u001b[39mshape)\n",
      "\u001b[1;31mNameError\u001b[0m: name 'x' is not defined"
     ]
    }
   ],
   "source": [
    "print((n_fft // 2 + 1))\n",
    "print(int(x[0][0].size(-1) * hop_length / n_fft))\n",
    "\n",
    "print(x.shape)"
   ]
  },
  {
   "cell_type": "code",
   "execution_count": 22,
   "metadata": {},
   "outputs": [
    {
     "ename": "NameError",
     "evalue": "name 'x' is not defined",
     "output_type": "error",
     "traceback": [
      "\u001b[1;31m---------------------------------------------------------------------------\u001b[0m",
      "\u001b[1;31mNameError\u001b[0m                                 Traceback (most recent call last)",
      "Cell \u001b[1;32mIn[22], line 1\u001b[0m\n\u001b[1;32m----> 1\u001b[0m resize_transform \u001b[38;5;241m=\u001b[39m torchvision\u001b[38;5;241m.\u001b[39mtransforms\u001b[38;5;241m.\u001b[39mResize((n_fft \u001b[38;5;241m/\u001b[39m\u001b[38;5;241m/\u001b[39m \u001b[38;5;241m2\u001b[39m \u001b[38;5;241m+\u001b[39m \u001b[38;5;241m1\u001b[39m, \u001b[38;5;28mint\u001b[39m(\u001b[43mx\u001b[49m\u001b[38;5;241m.\u001b[39msize(\u001b[38;5;241m-\u001b[39m\u001b[38;5;241m1\u001b[39m) \u001b[38;5;241m*\u001b[39m hop_length \u001b[38;5;241m/\u001b[39m n_fft)))\n\u001b[0;32m      2\u001b[0m resized_spectrogram \u001b[38;5;241m=\u001b[39m resize_transform(x\u001b[38;5;241m.\u001b[39mabs())\u001b[38;5;241m.\u001b[39mto(torch\u001b[38;5;241m.\u001b[39mcomplex128)\n",
      "\u001b[1;31mNameError\u001b[0m: name 'x' is not defined"
     ]
    }
   ],
   "source": [
    "resize_transform = torchvision.transforms.Resize((n_fft // 2 + 1, int(x.size(-1) * hop_length / n_fft)))\n",
    "resized_spectrogram = resize_transform(x.abs()).to(torch.complex128)"
   ]
  },
  {
   "cell_type": "code",
   "execution_count": 23,
   "metadata": {},
   "outputs": [
    {
     "ename": "NameError",
     "evalue": "name 'x' is not defined",
     "output_type": "error",
     "traceback": [
      "\u001b[1;31m---------------------------------------------------------------------------\u001b[0m",
      "\u001b[1;31mNameError\u001b[0m                                 Traceback (most recent call last)",
      "Cell \u001b[1;32mIn[23], line 6\u001b[0m\n\u001b[0;32m      1\u001b[0m \u001b[38;5;66;03m# Define a transform to convert waveform to spectrogram\u001b[39;00m\n\u001b[0;32m      2\u001b[0m InverseTransform \u001b[38;5;241m=\u001b[39m torchvision\u001b[38;5;241m.\u001b[39mtransforms\u001b[38;5;241m.\u001b[39mCompose([\n\u001b[0;32m      3\u001b[0m     torchaudio\u001b[38;5;241m.\u001b[39mtransforms\u001b[38;5;241m.\u001b[39mInverseSpectrogram(n_fft\u001b[38;5;241m=\u001b[39mn_fft, hop_length\u001b[38;5;241m=\u001b[39mhop_length),\n\u001b[0;32m      4\u001b[0m ])\n\u001b[1;32m----> 6\u001b[0m \u001b[38;5;28mprint\u001b[39m(\u001b[43mx\u001b[49m[\u001b[38;5;241m0\u001b[39m]\u001b[38;5;241m.\u001b[39mcpu()\u001b[38;5;241m.\u001b[39mshape)\n\u001b[0;32m      7\u001b[0m x_wav \u001b[38;5;241m=\u001b[39m InverseTransform(x[\u001b[38;5;241m0\u001b[39m]\u001b[38;5;241m.\u001b[39mcpu()\u001b[38;5;241m.\u001b[39mto(torch\u001b[38;5;241m.\u001b[39mcomplex128))\n\u001b[0;32m      9\u001b[0m Audio(x_wav, rate\u001b[38;5;241m=\u001b[39msamplerate)\n",
      "\u001b[1;31mNameError\u001b[0m: name 'x' is not defined"
     ]
    }
   ],
   "source": [
    "# Define a transform to convert waveform to spectrogram\n",
    "InverseTransform = torchvision.transforms.Compose([\n",
    "    torchaudio.transforms.InverseSpectrogram(n_fft=n_fft, hop_length=hop_length),\n",
    "])\n",
    "\n",
    "print(x[0].cpu().shape)\n",
    "x_wav = InverseTransform(x[0].cpu().to(torch.complex128))\n",
    "\n",
    "Audio(x_wav, rate=samplerate)"
   ]
  },
  {
   "cell_type": "code",
   "execution_count": 24,
   "metadata": {},
   "outputs": [
    {
     "data": {
      "text/html": [
       "\n",
       "                <audio  controls=\"controls\" >\n",
       "                    <source src=\"data:audio/wav;base64,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\" type=\"audio/wav\" />\n",
       "                    Your browser does not support the audio element.\n",
       "                </audio>\n",
       "              "
      ],
      "text/plain": [
       "<IPython.lib.display.Audio object>"
      ]
     },
     "execution_count": 24,
     "metadata": {},
     "output_type": "execute_result"
    }
   ],
   "source": [
    "waveform, sample_rate = torchaudio.load(\"../Data/SpeechCommands/speech_commands_v0.02/down/00b01445_nohash_0.wav\")\n",
    "Audio(waveform, rate=sample_rate)"
   ]
  },
  {
   "cell_type": "code",
   "execution_count": 27,
   "metadata": {},
   "outputs": [
    {
     "name": "stdout",
     "output_type": "stream",
     "text": [
      "torch.Size([1, 8000])\n",
      "torch.Size([1, 101, 81])\n",
      "torch.Size([1, 8000])\n"
     ]
    }
   ],
   "source": [
    "n_fft = 200 #Default: 400\n",
    "win_length = n_fft #Default: n_fft\n",
    "hop_length = win_length // 2 #Default: win_length // 2\n",
    "\n",
    "samplerate = 16000\n",
    "new_sample_rate = 8000\n",
    "resampler = torchaudio.transforms.Resample(orig_freq=samplerate, new_freq=new_sample_rate)\n",
    "resampled_waveform = resampler(waveform)\n",
    "\n",
    "print(resampled_waveform.shape)\n",
    "Transform = torchvision.transforms.Compose([\n",
    "    torchaudio.transforms.Spectrogram(n_fft=n_fft, hop_length=hop_length, win_length=win_length),\n",
    "])\n",
    "spectrogram = Transform(resampled_waveform)\n",
    "print(spectrogram.shape)\n",
    "\n",
    "spectrogram_complex = spectrogram.to(torch.complex128)\n",
    "\n",
    "InverseTransform = torchvision.transforms.Compose([\n",
    "    torchaudio.transforms.InverseSpectrogram(n_fft=n_fft, hop_length=hop_length, win_length=win_length),\n",
    "])\n",
    "\n",
    "inverse_waveform = InverseTransform(spectrogram_complex)\n",
    "print(inverse_waveform.shape)"
   ]
  },
  {
   "cell_type": "code",
   "execution_count": 28,
   "metadata": {},
   "outputs": [
    {
     "data": {
      "text/html": [
       "\n",
       "                <audio  controls=\"controls\" >\n",
       "                    <source src=\"data:audio/wav;base64,UklGRqQ+AABXQVZFZm10IBAAAAABAAEAQB8AAIA+AAACABAAZGF0YYA+AAAAAAAAAAAAAAAAAAAAAAAAAAAAAAAAAAAAAAAAAAAAAAAAAAAAAP//AAAAAAEAAQAAAAAA/////wAAAQACAAEAAAAAAP7///8AAAEAAgABAAAA/v/9////AAACAAMAAQD///3//f8AAAIAAgACAAAA/v/9//7/AAACAAIAAQAAAP7//v8AAAEAAgABAAAAAAD/////AAABAAEAAQAAAP////8AAAAAAAAAAAAAAAAAAAAAAAAAAAAAAAAAAAAAAAAAAAAAAAAAAAAAAAAAAAAAAAAAAAAAAAAAAAAAAAAAAAAAAAAAAAAAAQAAAAAAAAD/////AAABAAEAAQAAAP////8AAAEAAgACAAAA///+////AAACAAIAAQAAAP3//f///wEAAwADAAAA/v/8//z/AAACAAQAAgAAAP7//f///wAAAwADAAEA///+////AAABAAIAAgAAAP///v///wAAAQABAAAAAAD/////AAAAAAEAAAAAAAAA//8AAAAAAAABAAAAAAAAAAAAAAAAAAAAAAAAAAAAAAAAAAAAAAAAAAAAAAAAAAAA//8AAAAAAAAAAAAAAAD/////AAAAAAEAAQAAAP///////wAAAQACAAIAAAD///7///8AAAIAAgABAAAA/v/9////AQADAAIAAAD+//z//f8AAAIAAwACAAAA/v/9////AAACAAIAAQAAAP7///8AAAEAAgABAAAAAAD/////AAABAAEAAAAAAAAAAAAAAAAAAAAAAAAAAAAAAAAAAAAAAAAAAAAAAAAAAAAAAAAAAAAAAAAAAAAAAAAAAAAAAAAAAAAAAAAAAAAAAAAAAAAAAAAAAAAAAAAAAAAAAAAAAAABAAAAAAAAAAAAAAABAAEAAQAAAP////8AAAAAAQABAAAAAAD+////AAABAAEAAAAAAP///v8AAAAAAQABAAAAAAD/////AAABAAEAAAAAAAAAAAAAAAAAAAAAAAAAAAAAAAAAAAAAAAAAAAAAAAAAAAAAAAAAAAAAAAAAAAAAAAAAAAAAAAAAAAAAAAAAAAAAAAAAAAAAAAAAAAAAAAAAAAAAAAAAAAAAAAAAAAAAAAAAAAAAAAAAAAAAAAAAAAAAAAAAAAAAAAAAAAAAAAAAAAAAAAAAAAAAAAAAAAAAAAAAAAABAAEAAAAAAP////8AAAEAAQAAAAAA/////wAAAAABAAAAAAD///7///8AAAEAAQAAAAAA/////wAAAAABAAAAAAAAAAAAAAAAAAAAAAAAAAAAAAAAAAAAAAAAAAAAAAAAAAAAAAAAAAAAAAAAAAAAAAAAAAAAAAAAAAAAAAAAAAAAAAAAAAAAAAAAAAAAAAAAAAAAAAAAAAAAAAAAAAAAAAAAAAAAAAAAAAAAAAAAAAAAAAD//wAAAAAAAAEAAAAAAP////8AAAEAAgABAAAA///+//7/AAAAAAEAAQAAAP7///8AAAEAAgACAAAA////////AAABAAEAAAAAAP///////wAAAQABAAAAAAAAAAAAAAAAAAAAAAAAAAAAAAAAAAAAAAAAAAAAAAAAAAAAAAAAAAAAAAAAAAAAAAAAAAAAAAAAAAAAAAAAAAAAAAAAAAAAAAAAAAAAAAAAAAAAAAAAAAAAAAAAAAAAAAAAAAAAAAAAAAAAAAAAAAAAAAAAAAAAAAAAAAAAAAAAAAAAAAAAAAAAAAAAAAAAAAAAAAAAAAAAAAAAAAAAAAAAAAAAAAAAAAAAAAAAAAAAAAAAAAAAAAAAAAAAAAAAAAAAAAAAAAAAAAAAAAAAAAAAAAAAAAAAAAAAAAAAAAAAAAAAAAAAAAAAAAAAAAAAAAAAAAAAAAAAAAAAAAAAAAAAAAAAAAAAAAAAAAAAAAAAAAAAAAAAAAAAAAAAAAAAAAAAAAAAAAAAAAAAAAAAAAAAAAAAAAAAAAAAAAAAAAAAAAAAAAAAAAAAAAAAAAAAAAAAAAAAAAAAAAEAAAAAAAAAAAAAAAAAAAAAAAAAAAD//wAAAAAAAAEAAAAAAAAAAAAAAAAAAAAAAAAAAAAAAAAAAAAAAAAAAAAAAAAAAAAAAAAAAAAAAAAAAAAAAAAAAAAAAAAAAAAAAAAAAAAAAAAAAAAAAAAAAAAAAAAAAAAAAAAAAAAAAAAAAAAAAAAAAAAAAAAAAAAAAAAAAAAAAAAAAAAAAAAAAAAAAAAAAAAAAAAAAAABAAAAAAD/////AAABAAEAAQAAAP///v///wAAAgACAAAAAAD///7///8BAAEAAQAAAP///v///wAAAQACAAEAAAD///////8AAAEAAQAAAAAA/////wAAAAABAAAAAAAAAP//AAAAAAAAAAAAAAAAAAAAAAAAAAAAAAAAAAAAAAAAAAAAAAAAAAAAAAAAAAAAAAAAAAAAAAAAAAAAAAAAAAAAAAAAAAAAAAAAAAAAAP////8AAAAAAQABAAAA///+////AAABAAIAAQAAAP7//v8AAAEAAwACAAAA///9//7/AAADAAQAAgAAAP3//P/+/wEAAwADAAEA/v/8//3/AAACAAQAAgAAAP7//f/+/wEAAwACAAEA///+//7/AAABAAIAAQAAAP///v///wAAAQABAAAAAAAAAP//AAAAAAAAAQAAAAAA/////wAAAAAAAAAAAAAAAAAA/////wAAAAABAAAAAAAAAP//AAAAAAAAAQABAAAA///+////AAABAAIAAQAAAP7//v///wAAAwADAAEA///9//7/AAACAAQAAwAAAP3//P/9/wAAAwAEAAEA///8//z///8BAAQAAwAAAP7//P/9/wAAAwAEAAIA///9//7/AAABAAIAAgAAAP///v///wAAAgACAAEAAAD/////AAAAAAEAAQAAAAAA/////wAAAAABAAAAAAAAAP//AAAAAAAAAAAAAAAAAAD//wAAAAAAAAEAAAAAAP////8AAAAAAQABAAAAAAD/////AAAAAAEAAgAAAP///v///wAAAgACAAEAAAD+//7///8AAAIAAwABAP7//f/+/wAAAgADAAIAAAD+//3///8BAAIAAgAAAP///v/+/wAAAQACAAEAAAD+////AAAAAAAAAAAAAAAAAAD//wAAAAABAAAAAAAAAAAAAAAAAAAAAAAAAAAAAAAAAAAAAAAAAAAAAAAAAAAAAAAAAAAAAAAAAAAAAAAAAAAAAAAAAAAAAAAAAAAAAAAAAAAAAAAAAAAAAAAAAAAAAAAAAAAAAAAAAAAAAAAAAAAAAAAAAAAAAAAAAAAA/////wAAAQAAAAAAAAD///////8AAAIAAwABAP///v8AAAEAAQABAAEAAAAAAP7//v8AAAIAAgAAAP///////wAAAQABAAAAAAAAAP////8AAAEAAQAAAP////8AAAAAAAAAAAAAAAAAAAAAAAAAAAAAAAAAAAAAAAAAAAAAAAAAAAAAAAAAAAAAAAAAAAAAAAAAAAAAAAAAAAAAAAAAAAAAAAAAAAAAAAD/////AAABAAEAAAD//wAAAAAAAAAAAAABAAEAAAD/////AAACAAEAAAD+////AAAAAAAAAAABAAEAAAD+//7/AAACAAIAAAAAAAAAAAD//wAAAAABAAEAAAD/////AAAAAAEAAQAAAAAA/////wAAAAAAAAAAAAAAAAAAAAAAAAAAAAAAAAAAAAAAAAAAAAAAAAAAAAAAAAAAAAAAAAAAAAAAAAAAAAAAAAAAAAAAAAAAAAAAAAAAAAAAAAAAAAAAAAAAAAAAAAAAAAAAAAAAAAAAAP//AAAAAAAAAAAAAAAAAAAAAAAAAAAAAAEAAQAAAP//AAAAAAAAAAAAAAAAAAAAAP//AAAAAAEAAAAAAAAAAAAAAAAAAAAAAAAAAAAAAAAAAAAAAAAAAAAAAAAAAAAAAAAAAAAAAAAAAAAAAAAAAAAAAAAAAAAAAAAAAAAAAAAAAAAAAAAAAAAAAAAAAAAAAAAAAAAAAAAAAAAAAAAAAAAAAAAAAAAAAAAAAAAAAAAAAAAAAAAAAAAAAAAAAAAAAAAAAAAAAAEAAAAAAAAAAAAAAAAAAAAAAAAAAAAAAAAAAAAAAAAAAQAAAAAAAAAAAAAAAAAAAAAAAAAAAAAAAAAAAAAAAAAAAAAAAAAAAAAAAQAAAAAAAAAAAAAAAAAAAAAAAAAAAAAAAAAAAAAAAAAAAAAAAAAAAAAAAAAAAAAAAAAAAAAAAAAAAAAAAAAAAAAAAAAAAAAAAAAAAAAAAAAAAAAAAAAAAAAAAAAAAAAAAAAAAAAAAAAAAAAAAAAAAAAAAAAAAAAAAAAAAAAAAAAAAAAAAAAAAAAAAAAAAAAAAAD//wAAAAABAAEAAAAAAP//AAAAAAEAAAAAAAAAAAAAAP//AAAAAAAAAAAAAP//AAAAAAAAAAAAAAAAAAAAAAAAAAAAAAAAAAAAAAAAAAAAAAAAAAAAAAAAAAAAAAAAAAAAAAAAAAAAAAAAAAAAAAAAAAAAAAAAAAAAAAAAAAAAAAAAAAAAAAAAAAAAAAAAAAAAAAAAAAAAAAAAAAAAAAAAAAAAAAAAAAAAAAAAAAAAAAAAAQAAAAAA//8AAAAAAAABAAAAAAD/////AAAAAAEAAQAAAP///v///wAAAQABAAEAAAD+//3///8BAAIAAQAAAAAA/v/+/wAAAgACAAAAAAD///7/AAABAAIAAQAAAAAAAAD//wAAAAABAAAAAAD//wAAAAAAAAAAAAAAAAAAAAAAAAAAAAAAAAAAAAAAAAAAAAAAAAAAAAAAAAAAAAAAAAAAAAAAAAAAAAAAAAAAAAAAAAAAAAAAAAAAAAAAAAAAAAAAAAAAAAABAAAAAAD/////AAAAAAAAAgABAP///v///wAAAAACAAIAAAD+//3/AAABAAIAAgABAAAA/f/9/wAAAgADAAEAAAD///7///8AAAIAAgAAAP///v///wAAAQACAAIAAAD///////8AAAEAAgABAAAA/////wAAAAABAAEAAAAAAP////8AAAAAAQABAAAAAAD/////AAAAAAEAAAAAAP////8AAAAAAQABAAAAAAD/////AAAAAAEAAQAAAAAA/////wAAAQACAAEAAAD///7///8AAAIAAgABAAAA///+////AAADAAIAAAD///7//v8AAAEAAwADAAAA/f/9////AAACAAMAAgAAAP3//f8AAAEAAgACAAAA/v/9//7/AAABAAIAAQAAAP///v8AAAAAAQABAAAAAAD/////AAAAAAEAAQAAAAAA/////wAAAAABAAAAAAAAAP//AAAAAAAAAAAAAAAAAAD//wAAAAAAAAEAAAAAAP////8AAAAAAQABAAAAAAD/////AAABAAEAAQAAAP///v///wAAAgACAAEAAAD+//7///8BAAIAAgAAAP///v/+/wAAAgACAAEAAAD+//7///8AAAIAAgAAAP7//v///wAAAgACAAAAAAD/////AAABAAEAAQAAAAAA//8AAAAAAQAAAAAAAAD//wAAAAAAAAAAAAAAAAAAAAAAAAAAAAAAAAAAAAAAAAAAAAAAAAAAAAAAAAAAAAAAAAAAAAAAAAAAAAAAAAAAAAAAAAAAAAAAAAAAAAAAAAAAAAD//wAAAAAAAAEAAQAAAAAAAAAAAAAAAQABAAAAAAD//wAAAAABAAEAAAAAAP////8AAAAAAAAAAAAAAAD//wAAAAAAAAEAAAAAAAAAAAAAAAAAAAAAAAAAAAAAAAAAAAAAAAAAAAAAAAAAAAAAAAAAAAAAAAAAAAAAAAAAAAAAAAAAAAAAAAAAAAAAAAAAAAAAAAAAAAAAAAAAAAAAAAAAAAAAAAAAAAAAAAAAAAAAAAAAAAAAAAAAAAAAAAAAAAAAAAAAAAAAAAAA//8AAAAAAAABAAAAAAD//wAAAAAAAAEAAAAAAAAAAAAAAAAAAAAAAAAAAAAAAAAAAAAAAAAAAAAAAAAAAAAAAAAAAQAAAAAAAAAAAAAAAAABAAAAAAAAAP//AAAAAAAAAAAAAAAAAAAAAAAAAAAAAAAAAAAAAAAAAAAAAAAAAAAAAAAAAAAAAAAAAAAAAAAAAAAAAAAAAAAAAAAAAAAAAAAAAAAAAAAAAAAAAAAAAAAAAAAAAAAAAAAAAAAAAAAAAAAAAAAAAAAAAAAAAAAAAAAAAAAAAAAAAAAAAAAAAAAAAAAAAAAAAAAAAAAAAAAAAAAAAAAAAAAAAAAAAAAAAAAAAAAAAAAAAAAAAAAAAAAAAAAAAAAAAAAAAAAAAAAAAAAAAAAAAAAAAAAAAAAAAAAAAAAAAAAAAAAAAAAAAAAAAAAAAAAAAAAAAAAAAAAAAAAAAAAAAAAAAAAAAAAAAAAAAAAAAAAAAAAAAAAAAAAAAAAAAAAAAAAAAAAAAAAAAAAAAAAAAAAAAAAAAAAAAAAAAAAAAAAAAAAAAAAAAAAAAAAAAAAAAAAAAAAAAAAAAAAAAAAAAAAAAAAAAAAAAAAAAAAAAAAAAAAAAAAAAAAAAAAAAAAAAAAAAAAAAAAAAAAAAAAAAAAAAAAAAAAAAAAAAAAAAAAAAAAAAAAAAAAAAAAAAAAAAAAAAAAAAAAAAAAAAAAAAAAAAAAAAAAAAAAAAAAAAAAAAAAAAAAAAAAAAAAAAAAAAAAAAAAAAAAAAAAAAAAAAAAAAAAAAAAAAAAAAAAAAAAAAAAAAAAAAAAAAAAAAAAAAAAAAAAAAAAAAAAAAAAAAAAAAAAAAAAAAAAAAAAAAAAAAAAAAAAAAAAAAAAAAAAAAAAAAAAAAAAAAAAAAAAAAAAAAAAAAAAAAAAAAAAAAAAAAAAAAAAAAAAAAAAAAAAAAAAAAAAAAAAAAAAAAAAAAAAAAAAAAAAAAAAAAAAAAAAAAAAAAAAAAAAAAAAAAAAAAAAAAAAAAAAAAAAAAAAAAAAAAAAAAAAAAAAAAAAAAAAAAAAAAAAAAAAAAAAAAAAAAAAAAAAAAAAAAAAAAAAA//8AAAAAAAABAAAAAAD/////AAAAAAEAAQAAAP////8AAAAAAQABAAAAAAD//wAAAAAAAAEAAAAAAP////8AAAAAAQABAAAAAAAAAAAAAAAAAAAAAAAAAAAAAAAAAAAAAAAAAAAAAAAAAAAAAAAAAAAAAAAAAAAAAAAAAAAAAAAAAAAAAAAAAAAAAAAAAAAAAAAAAAAAAAAAAAAAAAAAAAAAAAAAAAAAAAAAAAAAAAAAAAAAAAAAAAAAAAAAAAAAAAAAAAAAAAAAAAAAAAAAAAAAAAAAAAAAAAAAAP////8AAAAAAQABAAAA////////AAABAAIAAQAAAP////8AAAAAAgABAAAA////////AAABAAEAAAAAAP////8AAAAAAQAAAAAAAAD//wAAAAAAAAAAAAAAAP//AAAAAAAAAQAAAAAAAAD//wAAAAAAAAEAAAAAAAAAAAAAAAAAAAABAAAAAAD/////AAAAAAAAAAAAAAAA/////wAAAAABAAAAAAD/////AAAAAAEAAQAAAAAA/////wAAAgADAAIAAAD+//7///8AAAIAAgABAP///f/9////AQACAAIAAAD///3//v8AAAEAAgABAAAA/////wAAAAABAAEAAAAAAAAAAAAAAAAAAAAAAAAAAAAAAAAAAAAAAAAAAAAAAAAAAAAAAAAAAAAAAAAAAAAAAAAAAAAAAAAAAAAAAAAAAAAAAAAAAAAAAAAAAAAAAAAAAAAAAAAAAAAAAAAAAAAAAAAAAAAAAAAAAAAAAAAAAAAAAAAAAAABAAEAAQAAAAAAAAAAAAEAAgABAAAA///+////AAABAAEAAAD///3//f///wAAAQABAAAA////////AAABAAIAAgAAAAAAAAAAAAAAAQABAAAAAAAAAAAAAAAAAAAAAAAAAAAAAAAAAAAAAAAAAAAAAAAAAAAAAAAAAAAAAAAAAAAAAAAAAAAAAAAAAAAAAAAAAAAAAAAAAAAAAAAAAAAAAAAAAAAAAAAAAAAAAAAAAAAAAAAAAAAAAAAAAAAAAAAAAAAAAAABAAEAAAAAAP////8AAAEAAgACAAAA///+////AAABAAIAAQAAAP7//f///wAAAgACAAAA///+////AAABAAIAAgAAAP///v8AAAEAAgACAAAAAAD/////AAAAAAEAAQAAAAAA//8AAAAAAAABAAAAAAAAAP//AAAAAAAAAAAAAAAAAAAAAAAAAAAAAAAAAAAAAAAAAAAAAAAAAAAAAAAAAAAAAP//AAAAAAEAAQAAAAAA/////wAAAAACAAIAAAD///7//v8AAAEAAgACAAAA/v/9//7/AAADAAMAAQAAAP3//f///wEABAADAAAA/v/8//7/AAADAAQAAQD///3//f///wEAAwACAAAA///+//7/AAACAAIAAQAAAAAA//8AAAAAAQABAAAAAAD/////AAAAAAAAAAAAAAAAAAAAAAAAAAAAAAAAAAAAAAAAAAAAAAAAAAAAAAAAAAAAAAAAAAAAAAAAAAAAAAAAAAAAAAAAAAAAAAAAAAD/////AAAAAAEAAQAAAAAA//8AAAAAAQACAAIAAAAAAP////8AAAIAAgABAAAA/v/+////AAACAAIAAAD///7//v///wEAAgABAAAA///+////AAABAAIAAQAAAP////8AAAEAAgABAAAAAAD/////AAAAAAAAAAAAAAAAAAAAAAAAAAAAAAAAAAAAAAAAAAAAAAAAAAAAAAAAAAAAAAAAAAAAAAAAAAAAAAAAAAAAAAAAAAAAAAAAAAAAAAAAAAAAAAAAAAAAAAAAAAAAAAAAAAAAAAAAAAD//wAAAAAAAAEAAAAAAAAA//8AAAEAAQABAAAA/////wAAAAAAAAEAAQAAAP///////wAAAQABAAAAAAD/////AAAAAAEAAQAAAAAAAAAAAAAAAAABAAAAAAAAAAAAAAAAAAAAAAAAAAAAAAAAAAAAAAAAAAAAAAAAAAAAAAAAAAAAAAAAAAAAAAAAAAAAAAAAAAAAAAAAAAAAAAAAAAAAAAAAAAAAAAAAAAAAAAAAAAAAAAAAAAAAAAAAAAAAAAAAAAAAAAAAAAAAAAAAAAAAAAABAAAAAAD//wAAAAABAAEAAAAAAAAAAAAAAAAAAAABAAAAAAD/////AAABAAEAAAAAAAAAAAD//wAAAAABAAAAAAD//wAAAAAAAAAAAAAAAAAAAAAAAAAAAAAAAAAAAAAAAAAAAAAAAAAAAAAAAAAAAAAAAAAAAAAAAAAAAAAAAAAAAAAAAAAAAAAAAAAAAAAAAAAAAAAAAAAAAAAAAAAAAAAAAAAAAAAAAAAAAAAAAAAAAAAAAAAAAQAAAAAA//8AAAAAAAAAAAAAAAD///7///8BAAIAAgAAAP///v/+/wAAAQACAAMAAAD9//z///8BAAMAAwABAP///v/9////AQADAAMAAAD+//3//v8AAAIAAgABAAAA/v/9////AAACAAIAAAAAAP////8AAAAAAQABAAAA////////AAABAAEAAQAAAAAA/////wAAAQABAAEAAAD/////AAAAAAEAAQABAAAA////////AAABAAEAAAAAAP////8AAAAAAgACAAAA/v/9////AAABAAMAAgAAAP7//f/+/wAAAwAEAAEA/v/8//z///8BAAQABAABAP7/+//8/wAAAgAEAAQAAQD+//z//v8AAAIABAADAAAA/f/9////AAABAAIAAgAAAP3//f8AAAEAAgABAAAA///+////AAABAAEAAAAAAP////8AAAEAAQABAAAAAAD/////AAABAAIAAQAAAP///////wAAAQACAAQA///4/wAABAD7/wEADwD+//X////7////EgABAPT/EAD4/97/DAAgAPn/BwANANz/7/8QAPb/EAA4APP/y/8OAO7/2/8pADoA8P8AAPj/xP/8/x8A+P8bAEEA2//G/x8ACQDk/xcAJADx//j/8P/n/xMAFgDo//v/GwDr/+L/EwASAPv/BQAAAPP/AgD+//f/DwAPAPb/+v8HAPr//P8IAAQAAAACAP3//P8DAAAA/f8FAAAA+f8AAAUA/v8AAAMA+v/3//r/9f/y/+3/6P/v//r/9f8HACkAPAAyADUAPAA9ACgA/f/s/+D/rv9h/1L/Y/9p/3v/mP/c/ycAdACfAPIAUAFtAV0BCAGmAEkAIAB6/wX//v7I/mH+b/75/k3/5P9cAJ0A8wAIAecA6gAbAZ0AQgAAAJj/OP8s/wf/Bv9x/3j/Wf++/z4ARwBGAIwArgCwAG8ARwBpAHwABwC4/+L/5P+Y/2//nP/I/83/sP/T/yMANgAiADAAVQBcAFYAMQAqAEcAHQCt/4L/kP9t/w3/wv41/9D/nv+U/8oAkgFbAboBTQJnAkUCewEYAEQAwP+k/I373/x4+8v4RPoA/Tb+af9CALcEswuvCvwEiwtgEs0FsPpdAPoAGvR/7k7zyfWS9WD1EfktAsIH8QRcBnwNagxOB84GMQbWApv/x/sl+en6Afpg9p/48/zk+8n6QP+oAvkCKwOYA8kFmAd5BOoAEQQkBVz+F/uU/uP+xvqM+oP9ev4D/mf+HgDtASICaQFlApkDZwJjAScCBAL+/wL+wf1D/k79Yvqz+nX/BABo/Pf+KQaWBM7/qwJHBegC8QA9AXMB4AOqAw/+SwDfBPv9SfXZ9SH2+PJ59czxafTxCx0U0AKkCq8vziMM/GT/5g2s+P3a/eBA7gPwtuzb8esHohPdDf0LExcFELn9pv1g/hb4hPac+kv7vP7XBqoEGgIPB50G+P7B95/2Pfkc/Wv4gvM+AeUMTwRp/DELaBNWA0r6xQBmA1v6n/ZS+//9Q/4f/Wb+lgErBGoDYgFvAy0EkwFf/tL8Y/33/Hz6EPZo+r4EaQPz/YIIdxiuDT/7QQBIBgn3tuZ564f12fhk+hoCWhIBIDQeUxMdDH/+7u145gLdPM372N790gpvB4YiI09ZSNscxARu+ubfirvOugPPDNMI4n4XnT3mLVUsrk7AQtv8stRL3ifc9cc1xkne5/9AE6saVSALKXcqVRpcBRLthuLc6HLrI+HK4R0BBhWbDD8G5RjmIn4MePvA+bn5d/I+8fL2vfYh+9kBFwWIAQcB3wdoCuQHEQGCAfIEgAFb+t71QvbV8Hjy+foX/Jz9MA+4Jf4ZcASpCWASSP2R3cLcZuiN5tzf5O9vDwooYDa6NWcqIxegBzbv9sb9ppqwrNWu4ffpoSIkef9/nkFBIwQbGfAqrpCjNLa/tcHFKvyzKVQpHDjpYq9Z8BKj6Vv11OlwxEm+ktS/5L/qVgMTH28ttzaHMzwhN/606aHmYOFD0u/OqfFvDAAMyAv/JQg0dBa+/Kz23vUc6mzmX/Md/Or/8AAuB8UG9wHNBFMGzQT2AbUGBwfSAP3/kvwc9FXnBuvI9uv2mvpyEosvMSL7CGULfBDv+vXcWd8+59/h/dy88IQSfSLhKIgvHTEuGKH8+/H44PHD57ghzqfY8975FPBgam0IQSorqyJi+PvFiL5+zuG+NbsL7C4UcA6LGNhSjVUVF0P4MgVoAojmn9+y4TXadc9I4VcHeBu4I/ssvzSOHp//DvGd5ybZ/s6D4Eb0j/31DC8q3DaXHG4Dkvrc8+HlluLA878B2QW1BCUIRAeLAJH+qv2Q/ogAMQcGCMEEPAY4Anb0juMU53n0lvnzABsZKTMSJicKjv0D+Fzp3Nqg5LfuXfHz9uQNKySlHXEV0hMBD2/4WOhu7wfyiO9h6IzqU+Yg4HMF6kC/VUMvdRVlDwDyR9Ys0v3bec0M0xj9NxGADYYZ9kfhRJUJQ+RG6DX20/DP9WH+7vYz5VLidvv9Du0V7BeCG+cXKghI+4vxQekJ4bfjZPDO+bwE2xnPLUAm3gr69P/rLumW6sD1qAKACawJFge3A4P/6Pv1+ef7f/+wAw0HtQnMCQQDMfbq6mjpz+sR9NQJ+CRpLSAZDAMF+Q7yWOfO4s7szff1/gEFWA/oFsET4w2XBFf3E+o77j4DmA8dCin4ser93FnT5e39KDdLUzH+E5cQ0gQY6OfXZd2+2DXYxOrA/doMrCVdShxD5AfN2bnbjvJW97n6uQm5C3H0beEI8BUHVgu0B90M/hK8C08AXP6J/670Q+ZX6Ibzo/qtCJkgXCc1ErT5hfDx7/fvTvZHAvcIQAVi/7oABQP3/mf79/4FA74AZv83BQQJhQKO9rDvJ+/R74X5qBI/KDAi/Qm9+s3yO+fJ5P7xGv6G/wICIQxXErgOkQorDegGkuzG27zt2QvIFFIK5fwd62HXPtaZ9rgpnEaMO0Ah1Qr/89Ta59HA2KfXH9rI7EIB2hhVQU9ePj4M/KbVb9DS1qvjPfrbD0QT2QLe8d/0fwPbC20OxQ1uB6r+e/sD/z4Ahfmh7hfq3PAp+l4EoBULI48auwMY93/10vEn8aj5NQHJ//X8agAdBQ4GpwUNBh0FbAAH/QUAeAGl+enwlvH89Mn1agLyGuEkSRd/Bu39TvO05z3pVfTQ+gP6Y/yGBicO2g+VEwcVPASm6b7mL/26C9wIQAOA/FjpSdSe1W3uaRO1NgdIxzg/E/z8SPiA5lrE9Lil1gLv/+/6BzxBrV2FOt8NL/3s7KXU6tCH56D8qwMsBtEFoQDt/+oIyg7QBpH9CgAABLH+L/eG+hQDnwBS9uzysvnq/4UDPwzqEsENngMI/SH3pvDn8hD+IgVpBD0CUgIFA1ACMwJYBDgFif6B8+PwIPdG/YgDYAzCEJwK7AKQAFr8+vYa+ZYAIwF/907yM/pYBtsJkwS0BHUMMwtx/LTyjfoBB/MEufdy7uXySv1R/UX3R/VNAPwV5SkFKq0Q1/4N+e3mK848z9ztxAOwCsQV3SGUH6AOMwMWA0IAifel79XsWvCk+tQDCAPt/1wD0QZ7A8f/6gCpBLEF2ABO+r336vvrAhsG1QC5+N/4YP0V/tj+XAfiDrEIB/2u+K37kv74/yYCFAJ6/hr8eP4RAiEC8P+i/gX8Pvlx/b4InQ7wBiL+7fyA/Ov4YPktAe4F1AJA/PP4oPuOAQIH9geyBBv+/Ppv/4YDXAIy/9r9vfmH8wvygfryCxMUKQzg//H0welL7tgUfDNmH+3wJ9nD4xHtze8yALMebi1TF/H5b+iZ6Q/8nQ9PERz8P+7b9RgEJwbf/pUA6wWHA2/51/Ne+uIFFgzxBUr9nPvl/sAA8f6b/+wB6gGK/qT6OPhk903+xAqlEHQJXf2K+X38LP80/7j+Jf+3/jj/NP9x/ID5oP3oCbMQOgrI/ZT3Ffl9+zP+4/+h/7/+4f+8AsUA4Pwi/vYFCAqdBF7/N/t8+Jz5Z/3E/nT/oQalCPz+rvD77XsBtxiPG+cGTPJ75dbioPoUHQEntA4t8V3fjNq+8BAZ0DD7IDz/xurI6VP1eP9gBjkJIwIF9sL09/92BgcI0Qh3A/f6LPrFADwDmP+q+cz3x/3iBIcFbgHG/lH8RfxSAn8IXgfO/+L5wvdT+ZH+qATnB6EEG/8A/Y7+4/+b/+L/kP4F/R3/pQT9B8MEkf4e+Wn3yPlqAG0ImwjFADz6bvu2/+cDowjKBgT9PvSv9IX81gTqB2cD6/20+zL9fgNpCsgHKf3l+DH4nfU9/D4LMQ3P/xf4x/jJ+iEC9w5KEbD/4+nS54X+dxM6EZkEPP4O+Zr0If7bC5AJFf019974E/ytAGQEHQcjCBgDnvoU9rP48P3wA10IsgYFAWz7vvme/F4BMAOAAY3/wf1Q/vcBIgXYA2b/Bfuo+GX75gEMB98GBgLX+7P41/sIAuYGEwfeAUr7pPg/+7L/6QPkBIIB6/3y/T0A0QHBAn0Aufve+Vr9PAMvB18H1AGX+s324/jH/1QFRQZbAzQBrf+R/tH/Wf8Q/PD5lvyuANwEZwq8CpsBnvNj7kP3cQSzDBsObgpa/QvvMPFUAXEMlQhfASP9e/qL/OkCgAaLAEf4vvaM/HUE2Aj5COoDgfzU97P4d/0iAh0FLQQwAGz9I/5bAGQBZwHM/+P8Efyy/7oEnQXOAaL92/vG+5n9hgG8A5IBff+TAb0DiAGb/cb7xPtn/aIBzwVVBTwA/ftg/IT/gAFjARoAkf0p/PX+ZQROBzUF7/8R+f/0tvcJAGIJ0g1YCSH8/fC58pj+QAmGCmwEVPuD9Wz6QAj/D00GHvfR78/t3/FMB7wlGCp0DDvsK+HO5nLzBQapEy8RGwS/+Zn5Cv/qAz8Elv7X9ZXxUfnRB5YQxQ0GBI36dfSQ85P4zgF/CckJoAMG/Zz6Qfyh/zACjwE1/gn8b/7lA+gG9gPF/eX5Q/oo/RcBCAXVBgkFGAEl/Tf62/m+/dMDtAbsA+z+vvyi/mgBdAHg/vD7tPoO/S0DSAnPCZoDcPqn8+/ybPi6AeMKDg/CCvIAv/iH9ab2nfnR/NYANQXfBY8CHwRMDBUPiQR58Wng692S8oYTGii+I/MPyvxg8YXstu0j+IEGQQwtBpP9pvuGALwHzglLAsP2VPBI9OX/9Al2C+EFLf9k+nL4fPo3/tMAwwKLBHkEcwFG/j792f2g/kD/PwCXAKL/5f4bADwCYgOTA+QCFACb+0v5m/sVAOQCjQNcA0QCNQD4/oj/UwAFAEb/x/7l/VP9wv5UAisFVwRbAef+Q/1k+5X6W/zB/54E2QhbBzT/r/ZS9Tn7QQIjBDYA1P2FANgFPgqMB1r8l/Jw9F77Sf0F/xQGaAxlC+MFWgJqANH7tvcl+kX+f/xY/FEGSA+cCrz+Avh0+I37Of8XAu0BPP+l/a8ARQTJAgb/x/2d/nL+bP7F/5kAlgDGAOYBOgIkADv97Put/Fj+rADrAokD2gJEAhACaQEq/8D7BfrB+yr/YwEEAkAC6wKwAwUDdQC+/Sf8Dvwc/iYBfAJMAT4A2wBDAfj/a/08/CP9W/8bA1sGQwU7/3H6Avs6/vgBSwWhBPD8EfQt9c8B3Q7tEXQJP/mV6PblIfu4GAQjeBDZ8Wndbd/X+CEaZil9GTv6JefL6cL4GwhrDssG4PeD8UL6xgfaDW0JZ/+09sX0qfpPA4EHkwTH/vv7QP5pAh4E1gGX/Sv7Vfz7/14DQwTSAWr9I/uH/UUCGwU8BJ0Agfz2+pX9JwJgBCcCk/3u+nj8pABlBFwFYQIy/Wn6y/zlAS8FmQSVAKf7g/lv/LACmQYyBFr9iPi/+vcC2QqYCq4AlvT275H2owSMERETFwUm8nzrOfalBuAOcQp7+0nqZ+fl/t8h7y4pGDrx6tW10UDmxQvBKbMnuAkM7qroDfVABbQPLQ4W/xbtS+ii9SQJ4RScE7IGqfX97MLzlgKUDOALGQPV+FP0JPkvAw4KlQgKAYX5pPbN+bsBlgl7CuACPflW9f/4EQGuCH4K2wM0+QH0NPnbA4UKvAggAQT5UvU6+dsCUgotCTkBsPlW97v68wGTCDIJPQIN+UH1jvnwAZgIJgkiAgL4PPS4+4AHew1kCtYAD/YH8jv5JARnB44Bb/pv96r5pwLAD5QVVQux+fvws/Q/+63+gf+a/M34f/1cC/ETYw2U/3j2vPSm+FUA7gUMAw76QfVW+q4E8gsGDJoFA/zY9U34kgAKBm0EN/8h+1/6Wv2xAoEGdgWwAGT8svs9/n8B/wKLAVX+g/wu/sMBlAPTAWT+sfxk/tUBlQPAAS3+ifxV/ooBFgObAST+Xvsg/LwAwAX/BloDi/1o+cD5Av+TBV8HNgGL9w3zlvgzBX4QihJpCLj3gOz/7ywArQ8lEQMCm+yu4frs5ArMJokpWA6M6UrY9+ZvB1Ielhmo/THgztgY7+UTVSzjJmUJOep/3gzrtANtFbcTXgGa7VLo+fT8CD0VOBJVBIf2z/GP91cCtQlzCAcAJ/dw9FT5bQIHCtELvAbl/QX3efZd/B0EGQheBQT+z/fS92n+pgZTCqcGZ/7H97v3/v2HBWwIYgRP/A72f/av/QoHWQwsCuEBhfgg9Jb30QAkCUoK9QL992Lxo/RSAc0PvRU3Daz63+p46Vv4Mw2bGIMQzPjE4ZndBfMUFssu4ynzCDPiJNEw4pkIMScwJjIGHd9OzhzhCwusLugyuhUR7WvVPt0p/MMaCSOrD3rw/93E5SUAkhjUHdINAfZN6Lft7/+0D0AR8ATQ9Z3v/PXZAkoMJAwRBCb7nPeQ+i8AyANhA2QArf0S/Yf+owAZAo0CGQKjAIb+Ef2r/WQAawPfA0cAlvqC9/D63gMgDIgMMgMq9nPvX/V4BBURKxARAd/uYuhy9EQL5BuyGL8Cw+kt4WnwWwugHPgWIf9q5uPe6e7tCw0ifSKuDur08uQz5uP1Ewr0FeYRIAE972Lndu5gAXoV8B2LFGD/tuxC6CLzWQQmEPgODwJj82PusvZpBeYPmw+oBWz51/Jh9fL9AwaPCDIFi/9i+2L6F/xN/7MCAAU8BfMCqv5M+t/4MPx5AiQHoAZgAUf7pvhH+2EBqAYwB3oCGPyy+DH6yv5LA40F8AQoAqX+8vsY+5z8YQDRBOwGCwQA/Wb2lPVM/KYGrg3hC78BJ/b18Q/51gWcDasJ4/yk8Kzt3/bzBpITWBTPCYP8HvXv9d36SP9gAcgBWwFOAGL+l/sj+if9NQXFDaUPjQfq+Vbwg/HN+xIHAQuKBcr7/PXG+GkB7ggCCvoE5P3t+Fr44fshAaAEpAQgAi//Mv2U/K39OgAIA14ELQPX/xL8Z/pp/BIBAQUlBW4Byvy9+sn8cAEsBQkFDQFQ/En6F/wTAIkDiQS7Aoj/Dv2b/Pv9MgCCAuMDKAMeAGj8a/pW+/H+qAPQBrwFcgDv+vT5mf7IBNsGEgIp+SLzC/ZeAUgNjxBXCCH7Z/MF9z0CHAu/Cev+vvMp8j38QgmnDYUFAvgu8Yj3ugbbEhgSSQRa877rhPK6AawNWw7FBP74mfOo9zIBqwgDCQQD6vvY+Er7zQA+BaYFFwJW/Xf6/fpe/ogCBQVPBOAAAv1U++n8fwCGA98DSAG3/Q38t/1IAdsDeANrAOX8evtZ/UABZASHBJQBl/0k+7v77/6rAlAEfQKR/sv7w/wtAcUFggbLAU/6uvWK+MgBBQsPDVsFWfgN7//wKP67DTAUSAxk++3tSe7X/PIOahbODAH5F+pw6yz8FhAvGKANoPd05vPmIvmpEL4d6ReQA6LureaY77oBPhAiEqkHJ/mk8DfzAf77CAUNKQhD/jL2bfU4/IAFxApzCCsAp/fr9Nz5zQJeCRcJmALZ+l33VPosAaoGxga3AYj70fiI+7cBzga6BjcBRfot96T6kwJgCdUJGwOv+Tn0zvbJ//cIBwzEBqH8lPR19J/8twdADl8LLwC588ruqPV/BJcRbxNjB3v0Zuft6Zn7XRH3HIoWNwJa7Znlqu/yA0EU5hWdCPP1j+q77UD8YAv0EHkKFf5u9Zr2sP8GCYoLtQUH/Dv1gPXw+9cDLgjbBrMBmPyy+oT8GACyAs4CGQFh/+z+nv9vAHMAjP+a/rn+LADwAYoCTQHk/t/8u/zJ/sIBnwMPA3AAhP1A/IL9cgAkA8oD4QGi/jn8Q/y2/vYB4QMdAx8AAf3/+9L9NwHRA8YDBAFm/YH71/ygACwE3gQJAn39Y/o8+wkAtwUDCI8E9/wC9lz0lPkFA1kLtw3vCD8Axfg59gP5x/72A7wFvQPL/4v8k/u8/NP+kQCIAf0BoQKPA/cD4wI1ACH9QvuF+6P9ewC5AkQD9wHF//79fP1W/vv/bwH2AX8BpAACAMH/pP9l/wf/0f4T/9X/uAAvAeoAJwB6/0r/mP8RAFgAPQDt/8L/7f89AFsAGgCh/0j/ZP8FANcARQH3ABQAGP99/nv+/f7A/3QA7QAjAR4BzwA6AKb/W/9J/zz/SP/G/8EAxwEeAgcBXf5P+wj66/tWABYF0gdSBwMEmv8V/Lv6lPva/XUAdgJMA6MCiwC9/Xf7zfpg/B4AtwTQB4wH9wMN/0j7Sfoj/En/mAENAjsBMQCN/23/pv/i/+r/1//m/ykAeQCpAJ0AQgCz/zr/E/9L/8v/XgC+AL8AZADa/2H/OP9z/+b/PgBUADwALAA8AFMAPgDn/3f/PP9i/9T/VgCuALIAXwDh/3f/Rv9V/6D/AwBNAHEAfgBsADMA7//B/5v/aP9W/8D/wAD1AY4CeAFt/vP6jfmu+44AmAXmBzgG5gG+/QD8Gv23/9YB6AHW/139v/yY/lkBqAJNAVT+efzH/aABUAUrBpwDWv/s+/L6YPz//moBqwKBAkYBsf+C/jj+0v7O/5sA/ADlAHoA/P+o/57/0f8QACAA4f+C/23/4P+LAOIAowD5/0z/DP9i/wQAhwC1AIcAAwBj/xH/Uf/7/6IA4gCPAOT/bf99/93/IQAXANf/kf95/7L/NwDWAD0BLAF+AFD/OP72/dv+jwA6AtoC0AFm/8X8bft4/N7/BwRzBlEFFAFe/DT6/vtrAFwECgXoATT9TPo7+1f/3QPPBdEDS/9h+6/6ov0/AnQFLQXCAY39KvvP+8T+DwLOAzUD5wB7/l79Bv7R/30B+gEMAWH/Ef7z/R//1gAJAgEC0AAx/w3+Bv4X/40AhAF/AZ8Af//V/gD/z/+sAAgBrADP//7+0P56/58AjgGgAaMAEP/a/dP9Fv/1AF4CaALsAL7+PP1v/U7/twETA1ICuv/r/O37wf2IAeEEZAVsAqv9GfoR+sj9IgPaBmcGwgG4+zf4u/mQ/xEG9ggnBkz/xfjj9uz6IgK/ByQIJwP3+wv3k/eA/VsFQAoeCc8CUfsT90342/0OBBYHaQWcAAv8ePqC/IgA6wOhBGkC3f5V/Fr8qP6PATADogJrAAr+9vy+/cn/zgGtAggCYAC6/v39d/67//cAdwH3ALv/cv7x/bH+agArAtUC1AGT/1/9rvwe/uoATAOUA1cB5/2M+w38Vv9eA2oF4gOK/x/7qvmB/DACKAflB2gDI/yQ9mD2HvygBMAKgArVA+f6WPWi9gL+2wZtC38I1f8m9zT05vgLAokJYwowBG77O/YD+EX/7wbqCXIGIv/0+L33sfu1Ac0FsQUBApv9dvun/Ob/uQJMA5oBKv+6/f/9df/9AJ0BBwHK/9r+xv5g/xoAkQCiAFsAAwD0/y8AXgA2AND/df9T/3X/z/81AGIAOwAFAAwARwBuAF4AHwC5/0j/Gv9t/xkAtQDmAIYApP+z/oD+hv9LAZMCPwIoAHb9Ffxr/f0AbwT3BH4B7vtb+B/63gBECOcKQAbg/B71xvSA/NMGKgyhCNb+1PUY9Pb6bgXJC5EJ8QB8+PL1evpdAs8HGgdjAYL7wPmm/FcBXAT0A+gAzv30/Iv+xwDNAScBuP+//vP+CgAAAfwAGwA//yD/v/+KAOAAfwCx/xT/H/+6/2gAtwCTADQA1f+W/4H/lv/W/zsAowDEAGAAlP/s/v/+3v/oAEcBmABI/1D+lv4eAM0BLwLLAK3+g/1N/pUAqQK2AlsAU/06/DD+xQEvBHQD3v8H/Cv7af5pAxgGJQT3/nj6G/o//rgDHgaBAxn+SPoH+7D/nAT8BcYCmv2X+uT7FQC6AzkEjwEU/oz89/3gAMgCSgIbACf+4P1I/xQB1AEUAZ3/nf6+/rr/swD2AHkAx/9y/6D/BQBDADgAAADN/8v/8P8SABcABgD3//f///8AAPz/9//7/wEABAAAAPn/9f/4////BwANAAkA+P/b/8v/1//7/yYARQA9AAoAyf+k/7r///83ADUAAgDY/+X/HABFADIA7P+d/4z/5/+BAOEAqQD5/1b/OP+s/2IA3QC2APn/O/8h/77/ggC/AEoAif8K/y3/5v+3ACMB/wBvAM7/g/+s/wAAJgAJANj/yf/z/0AAcgBSAPL/nP+N/8b/GwBXAFEAEQDJ/6r/xP8AADIAOwAXAOX/yP/O/+j/BAAaACIAHAAMAPX/3//V/9//9f8NAB4AIwAYAAAA5f/R/9L/7/8VACgAGwD8/+D/1//o/wUAGgAUAAAA7f/h/97/7/8QACgAJwAbAAoA7P/A/6L/pf/Q/x0AbgCJAGQAOgA4AD8AKgAFAOf/2//f/+z/7v/T/7j/1f8mAFsARQATAPT/4//k/wsAOgA2AAoA9f/7//j/8f8GACQAIwAMAAIABAD+//D/8P/8//7/+P/3//v/9//y//3/EAAUAAkA///2/+r/4f/q//3/CAAKAAkAAADt/+L/7f8AAAkACgAJAP7/6//i/+n/9P/9/wkAFgATAAEA9P/x//D/7//6/w0AFQAGAPD/5f/o//T/CwArADQAFwD1/+n/4P/T/+n/LgBgAFIAJgAGAO3/4/8AACwAKAD4/9f/3//z//v///8GAAsADQAXACcALwAjAAcA7//n/+3/+f8OACYAIAD3/9b/3//7/wwAFwAZAAgA7f/j//L/AAAEAA4AFwAPAP3/9P/0//P/9f///wQA///3//f//v8AAP7/AAAAAPf/8f/3/wAAAAD//wAA/v/3//b///8EAP//9f/z//b/9//+/wwAEgAJAAAA///6//P/9/8CAAgABAABAAMAAwAAAAQACgAFAPj/9/8GABMADwAGAAsAFAAIAOz/7f8WADMAJwAXAAwA5f+3/8z/DgAmABMAFQAZAPD/0v8GAEkAPwAQAP3/6v/F/8v/CgA5ACsACQD7//T/6v/v/wkAHAAOAPX/7v/w/+v/8v8MABoACgD3//b//v/+//3/BAAJAPr/6P/v/wEAAAD7/wAAAQDv/+j/+v8JAAQA/f/+////9//3/wgAFwALAPX/8P/0/+//8f8GABUACAD3//n/AAD9////GwAsAAkA2f/W/+v/8f8JAEIAVAAdAOf/7P8BAP7/CAAuACkA5/+9/8f/2P/+/z8AYQBCAAoA0f+u/8v/DwA/AFEASQARAMD/pf/Z/xgALwArACEAAADS/8j/8P8TABMAEgAdAA4A7P/r/wYABgDy//j/CQACAPX//v8HAPn/6P/z/woADAD//wMACQDv/9n/7/8JAAMA//8LAAoA8//p//v/CAD///T///8EAPX/8P8DAAUA6//q/wsAGwAPAA0AEAD0/8v/0/8JADUANwApAA4A1/+p/8z/MwB9AHgASgAQAML/hf+y/zAAgwBpACAA6v+//6D/wP8qAGgANgD6//P/0v+a/8n/RQBxADQA/f/p/8H/nf/C/w4AIQAGAAsAFQDu/8r/6/8SAP3/4P/x/wQA9//7/x0AIAD6/+v//f/9//L/CwAuAB8A8v/m//T/8//3/x0A\" type=\"audio/wav\" />\n",
       "                    Your browser does not support the audio element.\n",
       "                </audio>\n",
       "              "
      ],
      "text/plain": [
       "<IPython.lib.display.Audio object>"
      ]
     },
     "execution_count": 28,
     "metadata": {},
     "output_type": "execute_result"
    }
   ],
   "source": [
    "Audio(inverse_waveform, rate=new_sample_rate)"
   ]
  },
  {
   "cell_type": "code",
   "execution_count": null,
   "metadata": {},
   "outputs": [],
   "source": []
  }
 ],
 "metadata": {
  "kernelspec": {
   "display_name": "Python 3 (ipykernel)",
   "language": "python",
   "name": "python3"
  },
  "language_info": {
   "codemirror_mode": {
    "name": "ipython",
    "version": 3
   },
   "file_extension": ".py",
   "mimetype": "text/x-python",
   "name": "python",
   "nbconvert_exporter": "python",
   "pygments_lexer": "ipython3",
   "version": "3.11.8"
  }
 },
 "nbformat": 4,
 "nbformat_minor": 4
}
